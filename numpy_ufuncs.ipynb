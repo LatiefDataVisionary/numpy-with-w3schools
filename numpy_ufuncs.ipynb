{
  "nbformat": 4,
  "nbformat_minor": 0,
  "metadata": {
    "colab": {
      "provenance": [],
      "authorship_tag": "ABX9TyNQPiwMvjaks1PBxG3vLDib",
      "include_colab_link": true
    },
    "kernelspec": {
      "name": "python3",
      "display_name": "Python 3"
    },
    "language_info": {
      "name": "python"
    }
  },
  "cells": [
    {
      "cell_type": "markdown",
      "metadata": {
        "id": "view-in-github",
        "colab_type": "text"
      },
      "source": [
        "<a href=\"https://colab.research.google.com/github/LatiefDataVisionary/numpy-with-w3schools/blob/main/numpy_ufuncs.ipynb\" target=\"_parent\"><img src=\"https://colab.research.google.com/assets/colab-badge.svg\" alt=\"Open In Colab\"/></a>"
      ]
    },
    {
      "cell_type": "markdown",
      "source": [
        "# **1. ufuncs Intro**"
      ],
      "metadata": {
        "id": "QhBvIelbs3eQ"
      }
    },
    {
      "cell_type": "markdown",
      "source": [
        "Without ufunc, we can use Python's built-in zip() method:\n",
        "\n"
      ],
      "metadata": {
        "id": "vXVYpCh6tALc"
      }
    },
    {
      "cell_type": "code",
      "execution_count": 2,
      "metadata": {
        "colab": {
          "base_uri": "https://localhost:8080/"
        },
        "id": "MfV5Ji8sfi2m",
        "outputId": "0ac5c74a-8d79-41de-e116-0b8db0c904e4"
      },
      "outputs": [
        {
          "output_type": "execute_result",
          "data": {
            "text/plain": [
              "[5, 7, 9, 11]"
            ]
          },
          "metadata": {},
          "execution_count": 2
        }
      ],
      "source": [
        "x = [1,2,3,4]\n",
        "y = [4,5,6,7]\n",
        "z=[]\n",
        "\n",
        "for i, j in zip(x,y):\n",
        "  z.append(i+j)\n",
        "z"
      ]
    },
    {
      "cell_type": "markdown",
      "source": [
        "With ufunc, we can use the add() function:\n",
        "\n"
      ],
      "metadata": {
        "id": "eMLZrMs5tPlf"
      }
    },
    {
      "cell_type": "code",
      "source": [
        "import numpy as np\n",
        "\n",
        "x = [1, 2, 3, 4]\n",
        "y = [4, 5, 6, 7]\n",
        "z = np.add(x,y)\n",
        "z"
      ],
      "metadata": {
        "colab": {
          "base_uri": "https://localhost:8080/"
        },
        "id": "CD29wIi9tT24",
        "outputId": "8714ea6b-6a79-4943-c7a7-4361d541000a"
      },
      "execution_count": 3,
      "outputs": [
        {
          "output_type": "execute_result",
          "data": {
            "text/plain": [
              "array([ 5,  7,  9, 11])"
            ]
          },
          "metadata": {},
          "execution_count": 3
        }
      ]
    },
    {
      "cell_type": "markdown",
      "source": [
        "# **2. ufuncs Create Function**"
      ],
      "metadata": {
        "id": "S0GjH-ZQtpEm"
      }
    },
    {
      "cell_type": "markdown",
      "source": [
        "Create your own ufunc for addition:\n",
        "\n"
      ],
      "metadata": {
        "id": "dtw9UKOnuCtN"
      }
    },
    {
      "cell_type": "code",
      "source": [
        "def myadd(x,y):\n",
        "  return x+y\n",
        "\n",
        "myadd = np.frompyfunc(myadd, 2, 1)\n",
        "myadd([1,2,3,4], [5,6,7,8])"
      ],
      "metadata": {
        "colab": {
          "base_uri": "https://localhost:8080/"
        },
        "id": "etWcMiusuD-e",
        "outputId": "087e6539-7e12-4f67-b444-70f357c3f903"
      },
      "execution_count": 4,
      "outputs": [
        {
          "output_type": "execute_result",
          "data": {
            "text/plain": [
              "array([6, 8, 10, 12], dtype=object)"
            ]
          },
          "metadata": {},
          "execution_count": 4
        }
      ]
    },
    {
      "cell_type": "markdown",
      "source": [
        "Check if a function is a ufunc:\n",
        "\n"
      ],
      "metadata": {
        "id": "0jTjGgsowxOV"
      }
    },
    {
      "cell_type": "code",
      "source": [
        "type(np.add)"
      ],
      "metadata": {
        "colab": {
          "base_uri": "https://localhost:8080/"
        },
        "id": "OAahw65twx6e",
        "outputId": "334a269d-8fc2-4af4-f1a3-476bef7d07a4"
      },
      "execution_count": 5,
      "outputs": [
        {
          "output_type": "execute_result",
          "data": {
            "text/plain": [
              "numpy.ufunc"
            ]
          },
          "metadata": {},
          "execution_count": 5
        }
      ]
    },
    {
      "cell_type": "markdown",
      "source": [
        "Check the type of another function: concatenate():\n",
        "\n"
      ],
      "metadata": {
        "id": "JjcTR1p0w5b9"
      }
    },
    {
      "cell_type": "code",
      "source": [
        "type(np.concatenate)"
      ],
      "metadata": {
        "colab": {
          "base_uri": "https://localhost:8080/"
        },
        "id": "oy7-P4yNw3ux",
        "outputId": "c05db27d-a014-416a-aae1-de5180d3f8ef"
      },
      "execution_count": 6,
      "outputs": [
        {
          "output_type": "execute_result",
          "data": {
            "text/plain": [
              "numpy._ArrayFunctionDispatcher"
            ]
          },
          "metadata": {},
          "execution_count": 6
        }
      ]
    },
    {
      "cell_type": "markdown",
      "source": [
        "Use an if statement to check if the function is a ufunc or not:\n",
        "\n"
      ],
      "metadata": {
        "id": "QU7IcB19xJzM"
      }
    },
    {
      "cell_type": "code",
      "source": [
        "if type(np.add) == np.ufunc:\n",
        "  print('add is ufunc')\n",
        "else:\n",
        "  print('add is not ufunc')"
      ],
      "metadata": {
        "colab": {
          "base_uri": "https://localhost:8080/"
        },
        "id": "OfAnTFsVxKn_",
        "outputId": "df23ec5c-08cd-4ac3-f6ac-8e86d1a4c7bb"
      },
      "execution_count": 7,
      "outputs": [
        {
          "output_type": "stream",
          "name": "stdout",
          "text": [
            "add is ufunc\n"
          ]
        }
      ]
    },
    {
      "cell_type": "markdown",
      "source": [
        "# **3. Simple Arithmetic**\n"
      ],
      "metadata": {
        "id": "rS2Hw3LzSUIA"
      }
    },
    {
      "cell_type": "markdown",
      "source": [
        "Add the values in arr1 to the values in arr2:\n",
        "\n"
      ],
      "metadata": {
        "id": "BromhbSeS95i"
      }
    },
    {
      "cell_type": "code",
      "source": [
        "arr1 = np.array([10, 11, 12, 13, 14, 15])\n",
        "arr2 = np.array([20, 21, 22, 23, 24, 25])\n",
        "\n",
        "newarr = np.add(arr1, arr2)\n",
        "newarr"
      ],
      "metadata": {
        "colab": {
          "base_uri": "https://localhost:8080/"
        },
        "id": "WziMtC16S-pf",
        "outputId": "c53bec64-6615-4b84-8528-729569d66882"
      },
      "execution_count": 8,
      "outputs": [
        {
          "output_type": "execute_result",
          "data": {
            "text/plain": [
              "array([30, 32, 34, 36, 38, 40])"
            ]
          },
          "metadata": {},
          "execution_count": 8
        }
      ]
    },
    {
      "cell_type": "markdown",
      "source": [
        "Subtract the values in arr2 from the values in arr1:\n",
        "\n"
      ],
      "metadata": {
        "id": "mwZuzhrhTQdM"
      }
    },
    {
      "cell_type": "code",
      "source": [
        "arr1 = np.array([10, 20, 30, 40, 50, 60])\n",
        "arr2 = np.array([20, 21, 22, 23, 24, 25])\n",
        "\n",
        "newarr = np.subtract(arr1, arr2)\n",
        "newarr"
      ],
      "metadata": {
        "colab": {
          "base_uri": "https://localhost:8080/"
        },
        "id": "3_iVTroOTQ2z",
        "outputId": "cb69a4b4-2620-4b8a-b59c-7c23c731b4c7"
      },
      "execution_count": 10,
      "outputs": [
        {
          "output_type": "execute_result",
          "data": {
            "text/plain": [
              "array([-10,  -1,   8,  17,  26,  35])"
            ]
          },
          "metadata": {},
          "execution_count": 10
        }
      ]
    },
    {
      "cell_type": "markdown",
      "source": [
        "Multiply the values in arr1 with the values in arr2:\n",
        "\n"
      ],
      "metadata": {
        "id": "DEuxfgRQTckD"
      }
    },
    {
      "cell_type": "code",
      "source": [
        "arr1 = np.array([10, 20, 30, 40, 50, 60])\n",
        "arr2 = np.array([20, 21, 22, 23, 24, 25])\n",
        "\n",
        "newarr = np.multiply(arr1, arr2)\n",
        "newarr"
      ],
      "metadata": {
        "colab": {
          "base_uri": "https://localhost:8080/"
        },
        "id": "GGD5TWvhTdY-",
        "outputId": "fda584cd-079f-4639-a8fb-c80f4b80218e"
      },
      "execution_count": 11,
      "outputs": [
        {
          "output_type": "execute_result",
          "data": {
            "text/plain": [
              "array([ 200,  420,  660,  920, 1200, 1500])"
            ]
          },
          "metadata": {},
          "execution_count": 11
        }
      ]
    },
    {
      "cell_type": "markdown",
      "source": [
        "Divide the values in arr1 with the values in arr2:\n",
        "\n"
      ],
      "metadata": {
        "id": "TMDlt2SRTnFl"
      }
    },
    {
      "cell_type": "code",
      "source": [
        "arr1 = np.array([10, 20, 30, 40, 50, 60])\n",
        "arr2 = np.array([3, 5, 10, 8, 2, 33])\n",
        "\n",
        "newarr = np.round(np.divide(arr1, arr2), 2)\n",
        "newarr"
      ],
      "metadata": {
        "colab": {
          "base_uri": "https://localhost:8080/"
        },
        "id": "rZKzzSkMTmua",
        "outputId": "03c99c43-18f1-40a3-9dc1-373f829b43dd"
      },
      "execution_count": 15,
      "outputs": [
        {
          "output_type": "execute_result",
          "data": {
            "text/plain": [
              "array([ 3.33,  4.  ,  3.  ,  5.  , 25.  ,  1.82])"
            ]
          },
          "metadata": {},
          "execution_count": 15
        }
      ]
    },
    {
      "cell_type": "markdown",
      "source": [
        "Raise the valules in arr1 to the power of values in arr2:\n",
        "\n"
      ],
      "metadata": {
        "id": "9sUHJ5tyUOOX"
      }
    },
    {
      "cell_type": "code",
      "source": [
        "arr1 = np.array([10, 20, 30, 40, 50, 60])\n",
        "arr2 = np.array([3, 5, 6, 8, 2, 33])\n",
        "\n",
        "newarr = np.power(arr1, arr2)\n",
        "newarr"
      ],
      "metadata": {
        "colab": {
          "base_uri": "https://localhost:8080/"
        },
        "id": "gFUhTmb6UN7j",
        "outputId": "b440889b-e140-4f9a-c4d4-b617593dd34c"
      },
      "execution_count": 16,
      "outputs": [
        {
          "output_type": "execute_result",
          "data": {
            "text/plain": [
              "array([         1000,       3200000,     729000000, 6553600000000,\n",
              "                2500,             0])"
            ]
          },
          "metadata": {},
          "execution_count": 16
        }
      ]
    },
    {
      "cell_type": "markdown",
      "source": [
        "Both the mod() and the remainder() functions return the remainder of the values in the first array corresponding to the values in the second array, and return the results in a new array.\n",
        "\n"
      ],
      "metadata": {
        "id": "q5pAPJ-zUfA_"
      }
    },
    {
      "cell_type": "code",
      "source": [
        "arr1 = np.array([10, 20, 30, 40, 50, 60])\n",
        "arr2 = np.array([3, 7, 9, 8, 2, 33])\n",
        "\n",
        "newarr = np.mod(arr1, arr2)\n",
        "newarr"
      ],
      "metadata": {
        "colab": {
          "base_uri": "https://localhost:8080/"
        },
        "id": "rcs7JpGEUhLW",
        "outputId": "7908fa1f-b0ae-4df3-edd4-67a3d7c817e9"
      },
      "execution_count": 17,
      "outputs": [
        {
          "output_type": "execute_result",
          "data": {
            "text/plain": [
              "array([ 1,  6,  3,  0,  0, 27])"
            ]
          },
          "metadata": {},
          "execution_count": 17
        }
      ]
    },
    {
      "cell_type": "code",
      "source": [
        "arr1 = np.array([10, 20, 30, 40, 50, 60])\n",
        "arr2 = np.array([3, 7, 9, 8, 2, 33])\n",
        "\n",
        "newarr = np.remainder(arr1, arr2)\n",
        "newarr"
      ],
      "metadata": {
        "colab": {
          "base_uri": "https://localhost:8080/"
        },
        "id": "NdWJ2dQaUpWc",
        "outputId": "e84f9ccb-5e9a-4c99-bd4d-1f6366e2f60c"
      },
      "execution_count": 18,
      "outputs": [
        {
          "output_type": "execute_result",
          "data": {
            "text/plain": [
              "array([ 1,  6,  3,  0,  0, 27])"
            ]
          },
          "metadata": {},
          "execution_count": 18
        }
      ]
    },
    {
      "cell_type": "code",
      "source": [
        "# Contoh dengan bilangan negatif\n",
        "arr1 = np.array([-10, 10])\n",
        "arr2 = np.array([3, -3])\n",
        "\n",
        "print(\"Modulus (mod):\", np.mod(arr1, arr2))\n",
        "print(\"Remainder (remainder):\", np.remainder(arr1, arr2))\n"
      ],
      "metadata": {
        "colab": {
          "base_uri": "https://localhost:8080/"
        },
        "id": "j-PGCXk5WrJG",
        "outputId": "db56772f-5f50-4986-90d6-cc0f340eb8dc"
      },
      "execution_count": 19,
      "outputs": [
        {
          "output_type": "stream",
          "name": "stdout",
          "text": [
            "Modulus (mod): [ 2 -2]\n",
            "Remainder (remainder): [ 2 -2]\n"
          ]
        }
      ]
    },
    {
      "cell_type": "markdown",
      "source": [
        "Return the quotient and mod:\n",
        "\n"
      ],
      "metadata": {
        "id": "3IzfXUtmXDop"
      }
    },
    {
      "cell_type": "code",
      "source": [
        "arr1 = np.array([10, 20, 30, 40, 50, 60])\n",
        "arr2 = np.array([3, 7, 9, 8, 2, 33])\n",
        "\n",
        "newarr = np.divmod(arr1, arr2)\n",
        "newarr"
      ],
      "metadata": {
        "colab": {
          "base_uri": "https://localhost:8080/"
        },
        "id": "73Q8fc8gXBqW",
        "outputId": "e6c486e0-3b22-49ba-a730-9fea00ad3405"
      },
      "execution_count": 20,
      "outputs": [
        {
          "output_type": "execute_result",
          "data": {
            "text/plain": [
              "(array([ 3,  2,  3,  5, 25,  1]), array([ 1,  6,  3,  0,  0, 27]))"
            ]
          },
          "metadata": {},
          "execution_count": 20
        }
      ]
    },
    {
      "cell_type": "markdown",
      "source": [
        "Return the quotient and mod:\n",
        "\n"
      ],
      "metadata": {
        "id": "Ilgm11fpXdtN"
      }
    },
    {
      "cell_type": "code",
      "source": [
        "arr = np.array([-1, -2, 1, 2, 3, -4])\n",
        "newarr = np.absolute(arr)\n",
        "newarr"
      ],
      "metadata": {
        "colab": {
          "base_uri": "https://localhost:8080/"
        },
        "id": "xhYOQWg3Xepk",
        "outputId": "e2646d7f-43e5-4cff-9c08-0f634ea8d168"
      },
      "execution_count": 21,
      "outputs": [
        {
          "output_type": "execute_result",
          "data": {
            "text/plain": [
              "array([1, 2, 1, 2, 3, 4])"
            ]
          },
          "metadata": {},
          "execution_count": 21
        }
      ]
    },
    {
      "cell_type": "code",
      "source": [
        "arr = np.array([-1, -2, 1, 2, 3, -4])\n",
        "newarr = np.abs(arr)\n",
        "newarr"
      ],
      "metadata": {
        "colab": {
          "base_uri": "https://localhost:8080/"
        },
        "id": "zTdDhtlfXqbw",
        "outputId": "5e56dabb-6b35-4f7e-c494-2fe0202fdc3c"
      },
      "execution_count": 22,
      "outputs": [
        {
          "output_type": "execute_result",
          "data": {
            "text/plain": [
              "array([1, 2, 1, 2, 3, 4])"
            ]
          },
          "metadata": {},
          "execution_count": 22
        }
      ]
    }
  ]
}