{
  "nbformat": 4,
  "nbformat_minor": 0,
  "metadata": {
    "colab": {
      "provenance": [],
      "authorship_tag": "ABX9TyP35mCqd0/zrYc1/JY5K4AR",
      "include_colab_link": true
    },
    "kernelspec": {
      "name": "python3",
      "display_name": "Python 3"
    },
    "language_info": {
      "name": "python"
    }
  },
  "cells": [
    {
      "cell_type": "markdown",
      "metadata": {
        "id": "view-in-github",
        "colab_type": "text"
      },
      "source": [
        "<a href=\"https://colab.research.google.com/github/LatiefDataVisionary/numpy-with-w3schools/blob/main/numpy_random.ipynb\" target=\"_parent\"><img src=\"https://colab.research.google.com/assets/colab-badge.svg\" alt=\"Open In Colab\"/></a>"
      ]
    },
    {
      "cell_type": "markdown",
      "source": [
        "#**1. Random Numbers in NumPy**\n"
      ],
      "metadata": {
        "id": "rn8_leT5dLDH"
      }
    },
    {
      "cell_type": "markdown",
      "source": [
        "### **A. Generate Random Number**\n",
        "\n",
        "Generate a random integer from 0 to 100:\n",
        "\n"
      ],
      "metadata": {
        "id": "uoHqBCeqdVrz"
      }
    },
    {
      "cell_type": "code",
      "execution_count": 1,
      "metadata": {
        "colab": {
          "base_uri": "https://localhost:8080/"
        },
        "id": "G0ii60b9Y9Pk",
        "outputId": "2a2a8aaa-7802-4c7d-cbf4-fb0227901c61"
      },
      "outputs": [
        {
          "output_type": "execute_result",
          "data": {
            "text/plain": [
              "95"
            ]
          },
          "metadata": {},
          "execution_count": 1
        }
      ],
      "source": [
        "from numpy import random\n",
        "x = random.randint(100)\n",
        "x"
      ]
    },
    {
      "cell_type": "markdown",
      "source": [
        "### **B. Generate Random Float**\n",
        "\n",
        "The random module's rand() method returns a random float between 0 and 1.\n",
        "\n"
      ],
      "metadata": {
        "id": "XVMrEp6edmLA"
      }
    },
    {
      "cell_type": "code",
      "source": [
        "x = random.rand()\n",
        "x"
      ],
      "metadata": {
        "colab": {
          "base_uri": "https://localhost:8080/"
        },
        "id": "qpNuFbXYdvU2",
        "outputId": "d7c85e9a-f79c-4ece-d042-fef86f9bb964"
      },
      "execution_count": 2,
      "outputs": [
        {
          "output_type": "execute_result",
          "data": {
            "text/plain": [
              "0.9569369235002619"
            ]
          },
          "metadata": {},
          "execution_count": 2
        }
      ]
    },
    {
      "cell_type": "markdown",
      "source": [
        "### **C. Generate Random Array**\n",
        "\n",
        "The randint() method takes a size parameter where you can specify the shape of an array.\n",
        "\n",
        "\n"
      ],
      "metadata": {
        "id": "p-aIiLi4eQvh"
      }
    },
    {
      "cell_type": "code",
      "source": [
        "x = random.randint(100, size=(5))\n",
        "x"
      ],
      "metadata": {
        "colab": {
          "base_uri": "https://localhost:8080/"
        },
        "id": "cz9zijLBeUAV",
        "outputId": "e77aa17d-f6b6-481b-a36c-26f118abfa8c"
      },
      "execution_count": 3,
      "outputs": [
        {
          "output_type": "execute_result",
          "data": {
            "text/plain": [
              "array([33, 85, 74, 56, 71])"
            ]
          },
          "metadata": {},
          "execution_count": 3
        }
      ]
    },
    {
      "cell_type": "markdown",
      "source": [
        "Generate a 2-D array with 3 rows, each row containing 5 random integers from 0 to 100:\n",
        "\n"
      ],
      "metadata": {
        "id": "lyol2MHHfaos"
      }
    },
    {
      "cell_type": "code",
      "source": [
        "x = random.randint(100, size=(3,5))\n",
        "x"
      ],
      "metadata": {
        "colab": {
          "base_uri": "https://localhost:8080/"
        },
        "id": "F-R2MXLAfdWc",
        "outputId": "feabc206-0c70-45a4-aede-5dea007af068"
      },
      "execution_count": 4,
      "outputs": [
        {
          "output_type": "execute_result",
          "data": {
            "text/plain": [
              "array([[46, 52, 49, 91, 46],\n",
              "       [53, 93,  9, 13, 22],\n",
              "       [73, 55, 72, 18, 93]])"
            ]
          },
          "metadata": {},
          "execution_count": 4
        }
      ]
    },
    {
      "cell_type": "code",
      "source": [
        "x = random.randint(100, size=(2,5,3))\n",
        "x"
      ],
      "metadata": {
        "colab": {
          "base_uri": "https://localhost:8080/"
        },
        "id": "eEUHS5PAfk6F",
        "outputId": "32fdeee2-674b-4cb1-e871-aa19411de589"
      },
      "execution_count": 5,
      "outputs": [
        {
          "output_type": "execute_result",
          "data": {
            "text/plain": [
              "array([[[ 2, 17, 70],\n",
              "        [ 2,  0, 21],\n",
              "        [34, 24, 54],\n",
              "        [74, 42, 45],\n",
              "        [55, 51, 59]],\n",
              "\n",
              "       [[55,  7,  3],\n",
              "        [42, 36,  1],\n",
              "        [87, 13, 21],\n",
              "        [95,  3, 36],\n",
              "        [71, 54, 19]]])"
            ]
          },
          "metadata": {},
          "execution_count": 5
        }
      ]
    },
    {
      "cell_type": "markdown",
      "source": [
        "### **D. Floats**\n"
      ],
      "metadata": {
        "id": "f5HWP_f7gMRt"
      }
    },
    {
      "cell_type": "markdown",
      "source": [
        "Generate a 1-D array containing 5 random floats:\n",
        "\n"
      ],
      "metadata": {
        "id": "StpkIzHogSxP"
      }
    },
    {
      "cell_type": "code",
      "source": [
        "x = random.rand(5)\n",
        "x"
      ],
      "metadata": {
        "colab": {
          "base_uri": "https://localhost:8080/"
        },
        "id": "zv51tJJqgRmu",
        "outputId": "e50ea362-bfab-440a-b9e2-0e09f170c2a4"
      },
      "execution_count": 6,
      "outputs": [
        {
          "output_type": "execute_result",
          "data": {
            "text/plain": [
              "array([0.33025036, 0.83707433, 0.39103146, 0.96441663, 0.9245691 ])"
            ]
          },
          "metadata": {},
          "execution_count": 6
        }
      ]
    },
    {
      "cell_type": "markdown",
      "source": [
        "Generate a 2-D array with 3 rows, each row containing 5 random numbers:\n",
        "\n"
      ],
      "metadata": {
        "id": "LnYglyIXgalg"
      }
    },
    {
      "cell_type": "code",
      "source": [
        "x = random.rand(3,5)\n",
        "x"
      ],
      "metadata": {
        "colab": {
          "base_uri": "https://localhost:8080/"
        },
        "id": "Y-ALXwPtgct9",
        "outputId": "92f537c1-d485-4a2c-a32c-3dcf00308879"
      },
      "execution_count": 7,
      "outputs": [
        {
          "output_type": "execute_result",
          "data": {
            "text/plain": [
              "array([[0.9055481 , 0.39275091, 0.40617563, 0.09806962, 0.16082542],\n",
              "       [0.32995546, 0.15112505, 0.74815256, 0.52189288, 0.2969626 ],\n",
              "       [0.90743261, 0.94253459, 0.4562221 , 0.32171485, 0.98992747]])"
            ]
          },
          "metadata": {},
          "execution_count": 7
        }
      ]
    },
    {
      "cell_type": "code",
      "source": [
        "x[2]"
      ],
      "metadata": {
        "colab": {
          "base_uri": "https://localhost:8080/"
        },
        "id": "5IluKFTegm3m",
        "outputId": "2e90f3ca-2415-4f75-f5c5-c4f8069f88cf"
      },
      "execution_count": 8,
      "outputs": [
        {
          "output_type": "execute_result",
          "data": {
            "text/plain": [
              "array([0.90743261, 0.94253459, 0.4562221 , 0.32171485, 0.98992747])"
            ]
          },
          "metadata": {},
          "execution_count": 8
        }
      ]
    },
    {
      "cell_type": "markdown",
      "source": [
        "**E. Generate Random Number From Array**\n",
        "\n",
        "Return one of the values in an array:\n",
        "\n",
        "\n"
      ],
      "metadata": {
        "id": "WG2vO9Z8gxZf"
      }
    },
    {
      "cell_type": "code",
      "source": [
        "x = random.choice([3,5,7,9])\n",
        "x"
      ],
      "metadata": {
        "colab": {
          "base_uri": "https://localhost:8080/"
        },
        "id": "HDbpJwyDh7du",
        "outputId": "22cd283b-0c13-4053-9c39-6d087b1afc73"
      },
      "execution_count": 9,
      "outputs": [
        {
          "output_type": "execute_result",
          "data": {
            "text/plain": [
              "9"
            ]
          },
          "metadata": {},
          "execution_count": 9
        }
      ]
    },
    {
      "cell_type": "markdown",
      "source": [
        "Generate a 2-D array that consists of the values in the array parameter (3, 5, 7, and 9):\n",
        "\n"
      ],
      "metadata": {
        "id": "WPPlEBMmiiL1"
      }
    },
    {
      "cell_type": "code",
      "source": [
        "x = random.choice([3,5,7,9], size=(3,5))\n",
        "x"
      ],
      "metadata": {
        "colab": {
          "base_uri": "https://localhost:8080/"
        },
        "id": "vwdHlx6iifsN",
        "outputId": "7c49d17c-cbd7-4db9-803c-8771ff349d21"
      },
      "execution_count": 10,
      "outputs": [
        {
          "output_type": "execute_result",
          "data": {
            "text/plain": [
              "array([[3, 9, 5, 9, 9],\n",
              "       [7, 9, 3, 5, 3],\n",
              "       [9, 5, 7, 7, 7]])"
            ]
          },
          "metadata": {},
          "execution_count": 10
        }
      ]
    },
    {
      "cell_type": "markdown",
      "source": [
        "# **2. Random Data Distribution**\n"
      ],
      "metadata": {
        "id": "cD0ZS6nqj9OW"
      }
    },
    {
      "cell_type": "markdown",
      "source": [
        "### **A. Random Distribution**\n"
      ],
      "metadata": {
        "id": "OsKIEB_0lTxe"
      }
    },
    {
      "cell_type": "markdown",
      "source": [
        "Generate a 1-D array containing 100 values, where each value has to be 3, 5, 7 or 9.\n",
        "\n",
        "The probability for the value to be 3 is set to be 0.1\n",
        "\n",
        "The probability for the value to be 5 is set to be 0.3\n",
        "\n",
        "The probability for the value to be 7 is set to be 0.6\n",
        "\n",
        "The probability for the value to be 9 is set to be 0"
      ],
      "metadata": {
        "id": "2ZWCv7pQldsV"
      }
    },
    {
      "cell_type": "code",
      "source": [
        "x = random.choice([3,5,7,9], p=[0.1, 0.3, 0.6, 0.0], size=(100))\n",
        "x"
      ],
      "metadata": {
        "colab": {
          "base_uri": "https://localhost:8080/"
        },
        "id": "cTZWXWREj889",
        "outputId": "73aa528c-e274-4d0e-ba75-a441c663c901"
      },
      "execution_count": 11,
      "outputs": [
        {
          "output_type": "execute_result",
          "data": {
            "text/plain": [
              "array([7, 5, 5, 7, 5, 7, 7, 5, 3, 7, 7, 7, 7, 5, 5, 7, 7, 7, 7, 7, 5, 7,\n",
              "       7, 7, 7, 7, 7, 7, 5, 5, 7, 7, 3, 5, 3, 5, 7, 7, 7, 7, 7, 5, 7, 7,\n",
              "       5, 3, 7, 7, 7, 7, 7, 5, 7, 5, 7, 7, 7, 5, 7, 7, 5, 7, 5, 7, 7, 5,\n",
              "       7, 7, 7, 3, 7, 7, 5, 5, 7, 7, 7, 7, 5, 5, 7, 7, 7, 7, 7, 3, 5, 5,\n",
              "       5, 3, 7, 7, 3, 5, 7, 7, 5, 5, 7, 5])"
            ]
          },
          "metadata": {},
          "execution_count": 11
        }
      ]
    },
    {
      "cell_type": "markdown",
      "source": [
        "Same example as above, but return a 2-D array with 3 rows, each containing 5 values.\n",
        "\n"
      ],
      "metadata": {
        "id": "j6a_i7jrmz48"
      }
    },
    {
      "cell_type": "code",
      "source": [
        "x = random.choice([3, 5, 7, 9], p=[0.1, 0.3, 0.6, 0.0], size=(3, 5))\n",
        "x"
      ],
      "metadata": {
        "colab": {
          "base_uri": "https://localhost:8080/"
        },
        "id": "yxg80fTwm0rO",
        "outputId": "912800ff-f4d6-4f51-81a6-54e6255a4c47"
      },
      "execution_count": 12,
      "outputs": [
        {
          "output_type": "execute_result",
          "data": {
            "text/plain": [
              "array([[5, 7, 7, 7, 5],\n",
              "       [7, 5, 7, 5, 5],\n",
              "       [7, 7, 7, 3, 5]])"
            ]
          },
          "metadata": {},
          "execution_count": 12
        }
      ]
    },
    {
      "cell_type": "markdown",
      "source": [
        "# **3. Random Permutations**\n"
      ],
      "metadata": {
        "id": "YIEjZtD_pCKm"
      }
    },
    {
      "cell_type": "markdown",
      "source": [
        "### **A. Shuffling Arrays**\n",
        "\n",
        "Randomly shuffle elements of following array:\n",
        "\n",
        "\n"
      ],
      "metadata": {
        "id": "hJOdYPLupcHH"
      }
    },
    {
      "cell_type": "code",
      "source": [
        "from numpy import random\n",
        "import numpy as np\n",
        "arr = np.array([1,2,3,4,5])\n",
        "random.shuffle(arr)\n",
        "arr"
      ],
      "metadata": {
        "colab": {
          "base_uri": "https://localhost:8080/"
        },
        "id": "bOj8S0Pspbzd",
        "outputId": "6cd4b7fa-1db7-4e0e-9e10-38b2e34b3bc6"
      },
      "execution_count": 13,
      "outputs": [
        {
          "output_type": "execute_result",
          "data": {
            "text/plain": [
              "array([1, 5, 3, 2, 4])"
            ]
          },
          "metadata": {},
          "execution_count": 13
        }
      ]
    },
    {
      "cell_type": "markdown",
      "source": [
        "### **B. Generating Permutation of Arrays**\n"
      ],
      "metadata": {
        "id": "EeTHDYyHqrQO"
      }
    },
    {
      "cell_type": "code",
      "source": [
        "arr = np.array([1, 2, 3, 4, 5])\n",
        "newarr = random.permutation(arr)\n",
        "print(arr)\n",
        "print(newarr)"
      ],
      "metadata": {
        "colab": {
          "base_uri": "https://localhost:8080/"
        },
        "id": "j9j4QASEpB-U",
        "outputId": "6daa9951-3417-4515-9482-1070fe0f357c"
      },
      "execution_count": 14,
      "outputs": [
        {
          "output_type": "stream",
          "name": "stdout",
          "text": [
            "[1 2 3 4 5]\n",
            "[3 2 5 1 4]\n"
          ]
        }
      ]
    },
    {
      "cell_type": "markdown",
      "source": [
        "# **5. Normal (Gaussian) Distribution**\n",
        "\n"
      ],
      "metadata": {
        "id": "LPm75EcV5yOA"
      }
    },
    {
      "cell_type": "markdown",
      "source": [
        "### **A. Normal Distribution**\n"
      ],
      "metadata": {
        "id": "GwpkcNwW6ECR"
      }
    },
    {
      "cell_type": "code",
      "source": [
        "import matplotlib.pyplot as plt\n",
        "\n",
        "# Membuat distribusi normal dengan mean 5 dan standar deviasi 2\n",
        "data = np.random.normal(loc=5, scale=2, size=1000)\n",
        "\n",
        "# Visualisasi data\n",
        "plt.hist(data, bins=30, density=True)\n",
        "plt.title('Distribusi Normal (Mean=5, Std Dev=2)')\n",
        "plt.show()"
      ],
      "metadata": {
        "colab": {
          "base_uri": "https://localhost:8080/",
          "height": 452
        },
        "id": "io7zsLE86shA",
        "outputId": "be8f2147-3c1a-4b9f-dba2-8d7df7a68a3e"
      },
      "execution_count": 20,
      "outputs": [
        {
          "output_type": "display_data",
          "data": {
            "text/plain": [
              "<Figure size 640x480 with 1 Axes>"
            ],
            "image/png": "[encoded data removed]"
          },
          "metadata": {}
        }
      ]
    },
    {
      "cell_type": "markdown",
      "source": [
        "Generate a random normal distribution of size 2x3:\n",
        "\n"
      ],
      "metadata": {
        "id": "hpUcWBYT6Jm2"
      }
    },
    {
      "cell_type": "code",
      "source": [
        "x = random.normal(size=(2,3))\n",
        "x"
      ],
      "metadata": {
        "colab": {
          "base_uri": "https://localhost:8080/"
        },
        "id": "_b4qeHme5x9z",
        "outputId": "4c94ac11-4235-4a39-8cee-8fe245fd5a9e"
      },
      "execution_count": 15,
      "outputs": [
        {
          "output_type": "execute_result",
          "data": {
            "text/plain": [
              "array([[ 1.6185546 ,  0.37191345,  0.13438666],\n",
              "       [ 0.36795949, -0.27288741,  1.19407232]])"
            ]
          },
          "metadata": {},
          "execution_count": 15
        }
      ]
    },
    {
      "cell_type": "markdown",
      "source": [
        "Generate a random normal distribution of size 2x3 with mean at 1 and standard deviation of 2:\n",
        "\n"
      ],
      "metadata": {
        "id": "O-XSGukl7YS1"
      }
    },
    {
      "cell_type": "code",
      "source": [
        "x = random.normal(loc=1, scale=2, size=(2,3))\n",
        "x"
      ],
      "metadata": {
        "colab": {
          "base_uri": "https://localhost:8080/"
        },
        "id": "8dvwspWC7ZJH",
        "outputId": "1064fc64-061a-4a44-b476-93842e07c8c8"
      },
      "execution_count": 21,
      "outputs": [
        {
          "output_type": "execute_result",
          "data": {
            "text/plain": [
              "array([[2.93996615, 2.92711838, 0.82226596],\n",
              "       [0.55828772, 0.68687108, 3.53641387]])"
            ]
          },
          "metadata": {},
          "execution_count": 21
        }
      ]
    },
    {
      "cell_type": "markdown",
      "source": [
        "### **B. Visualization of Normal Distribution**\n"
      ],
      "metadata": {
        "id": "6NoRBiPe8Hz0"
      }
    },
    {
      "cell_type": "code",
      "source": [
        "import matplotlib.pyplot as plt\n",
        "import seaborn as sns\n",
        "\n",
        "sns.distplot(random.normal(size=1000), hist=False)\n",
        "plt.show()"
      ],
      "metadata": {
        "colab": {
          "base_uri": "https://localhost:8080/",
          "height": 629
        },
        "id": "tLtZOg-98LQd",
        "outputId": "f6f493b0-8ebc-499e-fa68-b67f5ebc013c"
      },
      "execution_count": 23,
      "outputs": [
        {
          "output_type": "stream",
          "name": "stderr",
          "text": [
            "<ipython-input-23-6a90ec78d7fd>:4: UserWarning: \n",
            "\n",
            "`distplot` is a deprecated function and will be removed in seaborn v0.14.0.\n",
            "\n",
            "Please adapt your code to use either `displot` (a figure-level function with\n",
            "similar flexibility) or `kdeplot` (an axes-level function for kernel density plots).\n",
            "\n",
            "For a guide to updating your code to use the new functions, please see\n",
            "https://gist.github.com/mwaskom/de44147ed2974457ad6372750bbe5751\n",
            "\n",
            "  sns.distplot(random.normal(size=1000), hist=False)\n"
          ]
        },
        {
          "output_type": "display_data",
          "data": {
            "text/plain": [
              "<Figure size 640x480 with 1 Axes>"
            ],
            "image/png": "[encoded data removed]"
          },
          "metadata": {}
        }
      ]
    }
  ]
}