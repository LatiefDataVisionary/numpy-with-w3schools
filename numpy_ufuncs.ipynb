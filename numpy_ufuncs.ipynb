{
  "nbformat": 4,
  "nbformat_minor": 0,
  "metadata": {
    "colab": {
      "provenance": [],
      "authorship_tag": "ABX9TyPm1yZjR6/XNCpHYsJzUiMp",
      "include_colab_link": true
    },
    "kernelspec": {
      "name": "python3",
      "display_name": "Python 3"
    },
    "language_info": {
      "name": "python"
    }
  },
  "cells": [
    {
      "cell_type": "markdown",
      "metadata": {
        "id": "view-in-github",
        "colab_type": "text"
      },
      "source": [
        "<a href=\"https://colab.research.google.com/github/LatiefDataVisionary/numpy-with-w3schools/blob/main/numpy_ufuncs.ipynb\" target=\"_parent\"><img src=\"https://colab.research.google.com/assets/colab-badge.svg\" alt=\"Open In Colab\"/></a>"
      ]
    },
    {
      "cell_type": "markdown",
      "source": [
        "# **1. ufuncs Intro**"
      ],
      "metadata": {
        "id": "QhBvIelbs3eQ"
      }
    },
    {
      "cell_type": "markdown",
      "source": [
        "Without ufunc, we can use Python's built-in zip() method:\n",
        "\n"
      ],
      "metadata": {
        "id": "vXVYpCh6tALc"
      }
    },
    {
      "cell_type": "code",
      "execution_count": 39,
      "metadata": {
        "colab": {
          "base_uri": "https://localhost:8080/"
        },
        "id": "MfV5Ji8sfi2m",
        "outputId": "29f9072e-21b7-4295-dfad-48df1c92fb14"
      },
      "outputs": [
        {
          "output_type": "execute_result",
          "data": {
            "text/plain": [
              "[5, 7, 9, 11]"
            ]
          },
          "metadata": {},
          "execution_count": 39
        }
      ],
      "source": [
        "x = [1,2,3,4]\n",
        "y = [4,5,6,7]\n",
        "z=[]\n",
        "\n",
        "for i, j in zip(x,y):\n",
        "  z.append(i+j)\n",
        "z"
      ]
    },
    {
      "cell_type": "markdown",
      "source": [
        "With ufunc, we can use the add() function:\n",
        "\n"
      ],
      "metadata": {
        "id": "eMLZrMs5tPlf"
      }
    },
    {
      "cell_type": "code",
      "source": [
        "import numpy as np\n",
        "\n",
        "x = [1, 2, 3, 4]\n",
        "y = [4, 5, 6, 7]\n",
        "z = np.add(x,y)\n",
        "z"
      ],
      "metadata": {
        "colab": {
          "base_uri": "https://localhost:8080/"
        },
        "id": "CD29wIi9tT24",
        "outputId": "6dcfb540-2297-4810-ba4c-9c918d27042f"
      },
      "execution_count": 40,
      "outputs": [
        {
          "output_type": "execute_result",
          "data": {
            "text/plain": [
              "array([ 5,  7,  9, 11])"
            ]
          },
          "metadata": {},
          "execution_count": 40
        }
      ]
    },
    {
      "cell_type": "markdown",
      "source": [
        "# **2. ufuncs Create Function**"
      ],
      "metadata": {
        "id": "S0GjH-ZQtpEm"
      }
    },
    {
      "cell_type": "markdown",
      "source": [
        "Create your own ufunc for addition:\n",
        "\n"
      ],
      "metadata": {
        "id": "dtw9UKOnuCtN"
      }
    },
    {
      "cell_type": "code",
      "source": [
        "def myadd(x,y):\n",
        "  return x+y\n",
        "\n",
        "myadd = np.frompyfunc(myadd, 2, 1)\n",
        "myadd([1,2,3,4], [5,6,7,8])"
      ],
      "metadata": {
        "colab": {
          "base_uri": "https://localhost:8080/"
        },
        "id": "etWcMiusuD-e",
        "outputId": "561b8040-a446-4e70-8dd3-fe117bd68146"
      },
      "execution_count": 41,
      "outputs": [
        {
          "output_type": "execute_result",
          "data": {
            "text/plain": [
              "array([6, 8, 10, 12], dtype=object)"
            ]
          },
          "metadata": {},
          "execution_count": 41
        }
      ]
    },
    {
      "cell_type": "markdown",
      "source": [
        "Check if a function is a ufunc:\n",
        "\n"
      ],
      "metadata": {
        "id": "0jTjGgsowxOV"
      }
    },
    {
      "cell_type": "code",
      "source": [
        "type(np.add)"
      ],
      "metadata": {
        "colab": {
          "base_uri": "https://localhost:8080/"
        },
        "id": "OAahw65twx6e",
        "outputId": "208bb644-9a68-41e8-f247-1bb43e84c813"
      },
      "execution_count": 42,
      "outputs": [
        {
          "output_type": "execute_result",
          "data": {
            "text/plain": [
              "numpy.ufunc"
            ]
          },
          "metadata": {},
          "execution_count": 42
        }
      ]
    },
    {
      "cell_type": "markdown",
      "source": [
        "Check the type of another function: concatenate():\n",
        "\n"
      ],
      "metadata": {
        "id": "JjcTR1p0w5b9"
      }
    },
    {
      "cell_type": "code",
      "source": [
        "type(np.concatenate)"
      ],
      "metadata": {
        "colab": {
          "base_uri": "https://localhost:8080/"
        },
        "id": "oy7-P4yNw3ux",
        "outputId": "8769f11d-6d13-45bc-ca3e-b238f60d3398"
      },
      "execution_count": 43,
      "outputs": [
        {
          "output_type": "execute_result",
          "data": {
            "text/plain": [
              "numpy._ArrayFunctionDispatcher"
            ]
          },
          "metadata": {},
          "execution_count": 43
        }
      ]
    },
    {
      "cell_type": "markdown",
      "source": [
        "Use an if statement to check if the function is a ufunc or not:\n",
        "\n"
      ],
      "metadata": {
        "id": "QU7IcB19xJzM"
      }
    },
    {
      "cell_type": "code",
      "source": [
        "if type(np.add) == np.ufunc:\n",
        "  print('add is ufunc')\n",
        "else:\n",
        "  print('add is not ufunc')"
      ],
      "metadata": {
        "colab": {
          "base_uri": "https://localhost:8080/"
        },
        "id": "OfAnTFsVxKn_",
        "outputId": "a4714e5f-522c-4a0d-b59d-cc94a24e1326"
      },
      "execution_count": 44,
      "outputs": [
        {
          "output_type": "stream",
          "name": "stdout",
          "text": [
            "add is ufunc\n"
          ]
        }
      ]
    },
    {
      "cell_type": "markdown",
      "source": [
        "# **3. Simple Arithmetic**\n"
      ],
      "metadata": {
        "id": "rS2Hw3LzSUIA"
      }
    },
    {
      "cell_type": "markdown",
      "source": [
        "Add the values in arr1 to the values in arr2:\n",
        "\n"
      ],
      "metadata": {
        "id": "BromhbSeS95i"
      }
    },
    {
      "cell_type": "code",
      "source": [
        "arr1 = np.array([10, 11, 12, 13, 14, 15])\n",
        "arr2 = np.array([20, 21, 22, 23, 24, 25])\n",
        "\n",
        "newarr = np.add(arr1, arr2)\n",
        "newarr"
      ],
      "metadata": {
        "colab": {
          "base_uri": "https://localhost:8080/"
        },
        "id": "WziMtC16S-pf",
        "outputId": "afca0f2d-cb98-4fff-9966-96ec34ca909a"
      },
      "execution_count": 45,
      "outputs": [
        {
          "output_type": "execute_result",
          "data": {
            "text/plain": [
              "array([30, 32, 34, 36, 38, 40])"
            ]
          },
          "metadata": {},
          "execution_count": 45
        }
      ]
    },
    {
      "cell_type": "markdown",
      "source": [
        "Subtract the values in arr2 from the values in arr1:\n",
        "\n"
      ],
      "metadata": {
        "id": "mwZuzhrhTQdM"
      }
    },
    {
      "cell_type": "code",
      "source": [
        "arr1 = np.array([10, 20, 30, 40, 50, 60])\n",
        "arr2 = np.array([20, 21, 22, 23, 24, 25])\n",
        "\n",
        "newarr = np.subtract(arr1, arr2)\n",
        "newarr"
      ],
      "metadata": {
        "colab": {
          "base_uri": "https://localhost:8080/"
        },
        "id": "3_iVTroOTQ2z",
        "outputId": "a835ad82-f048-492d-ffa5-54d212bb5cd8"
      },
      "execution_count": 46,
      "outputs": [
        {
          "output_type": "execute_result",
          "data": {
            "text/plain": [
              "array([-10,  -1,   8,  17,  26,  35])"
            ]
          },
          "metadata": {},
          "execution_count": 46
        }
      ]
    },
    {
      "cell_type": "markdown",
      "source": [
        "Multiply the values in arr1 with the values in arr2:\n",
        "\n"
      ],
      "metadata": {
        "id": "DEuxfgRQTckD"
      }
    },
    {
      "cell_type": "code",
      "source": [
        "arr1 = np.array([10, 20, 30, 40, 50, 60])\n",
        "arr2 = np.array([20, 21, 22, 23, 24, 25])\n",
        "\n",
        "newarr = np.multiply(arr1, arr2)\n",
        "newarr"
      ],
      "metadata": {
        "colab": {
          "base_uri": "https://localhost:8080/"
        },
        "id": "GGD5TWvhTdY-",
        "outputId": "3b1beaf5-b5f9-4682-8573-fb0568e4e300"
      },
      "execution_count": 47,
      "outputs": [
        {
          "output_type": "execute_result",
          "data": {
            "text/plain": [
              "array([ 200,  420,  660,  920, 1200, 1500])"
            ]
          },
          "metadata": {},
          "execution_count": 47
        }
      ]
    },
    {
      "cell_type": "markdown",
      "source": [
        "Divide the values in arr1 with the values in arr2:\n",
        "\n"
      ],
      "metadata": {
        "id": "TMDlt2SRTnFl"
      }
    },
    {
      "cell_type": "code",
      "source": [
        "arr1 = np.array([10, 20, 30, 40, 50, 60])\n",
        "arr2 = np.array([3, 5, 10, 8, 2, 33])\n",
        "\n",
        "newarr = np.round(np.divide(arr1, arr2), 2)\n",
        "newarr"
      ],
      "metadata": {
        "colab": {
          "base_uri": "https://localhost:8080/"
        },
        "id": "rZKzzSkMTmua",
        "outputId": "55e25755-3cc4-41e8-ec5d-67e088ff0e29"
      },
      "execution_count": 48,
      "outputs": [
        {
          "output_type": "execute_result",
          "data": {
            "text/plain": [
              "array([ 3.33,  4.  ,  3.  ,  5.  , 25.  ,  1.82])"
            ]
          },
          "metadata": {},
          "execution_count": 48
        }
      ]
    },
    {
      "cell_type": "markdown",
      "source": [
        "Raise the valules in arr1 to the power of values in arr2:\n",
        "\n"
      ],
      "metadata": {
        "id": "9sUHJ5tyUOOX"
      }
    },
    {
      "cell_type": "code",
      "source": [
        "arr1 = np.array([10, 20, 30, 40, 50, 60])\n",
        "arr2 = np.array([3, 5, 6, 8, 2, 33])\n",
        "\n",
        "newarr = np.power(arr1, arr2)\n",
        "newarr"
      ],
      "metadata": {
        "colab": {
          "base_uri": "https://localhost:8080/"
        },
        "id": "gFUhTmb6UN7j",
        "outputId": "aa986805-ef96-4b14-b2e3-19da182aea55"
      },
      "execution_count": 49,
      "outputs": [
        {
          "output_type": "execute_result",
          "data": {
            "text/plain": [
              "array([         1000,       3200000,     729000000, 6553600000000,\n",
              "                2500,             0])"
            ]
          },
          "metadata": {},
          "execution_count": 49
        }
      ]
    },
    {
      "cell_type": "markdown",
      "source": [
        "Both the mod() and the remainder() functions return the remainder of the values in the first array corresponding to the values in the second array, and return the results in a new array.\n",
        "\n"
      ],
      "metadata": {
        "id": "q5pAPJ-zUfA_"
      }
    },
    {
      "cell_type": "code",
      "source": [
        "arr1 = np.array([10, 20, 30, 40, 50, 60])\n",
        "arr2 = np.array([3, 7, 9, 8, 2, 33])\n",
        "\n",
        "newarr = np.mod(arr1, arr2)\n",
        "newarr"
      ],
      "metadata": {
        "colab": {
          "base_uri": "https://localhost:8080/"
        },
        "id": "rcs7JpGEUhLW",
        "outputId": "35bf9157-4117-42d7-f8ef-440b2ad4ecd6"
      },
      "execution_count": 50,
      "outputs": [
        {
          "output_type": "execute_result",
          "data": {
            "text/plain": [
              "array([ 1,  6,  3,  0,  0, 27])"
            ]
          },
          "metadata": {},
          "execution_count": 50
        }
      ]
    },
    {
      "cell_type": "code",
      "source": [
        "arr1 = np.array([10, 20, 30, 40, 50, 60])\n",
        "arr2 = np.array([3, 7, 9, 8, 2, 33])\n",
        "\n",
        "newarr = np.remainder(arr1, arr2)\n",
        "newarr"
      ],
      "metadata": {
        "colab": {
          "base_uri": "https://localhost:8080/"
        },
        "id": "NdWJ2dQaUpWc",
        "outputId": "e9c40127-4f9d-4a30-de62-13cc242fa4a3"
      },
      "execution_count": 51,
      "outputs": [
        {
          "output_type": "execute_result",
          "data": {
            "text/plain": [
              "array([ 1,  6,  3,  0,  0, 27])"
            ]
          },
          "metadata": {},
          "execution_count": 51
        }
      ]
    },
    {
      "cell_type": "code",
      "source": [
        "# Contoh dengan bilangan negatif\n",
        "arr1 = np.array([-10, 10])\n",
        "arr2 = np.array([3, -3])\n",
        "\n",
        "print(\"Modulus (mod):\", np.mod(arr1, arr2))\n",
        "print(\"Remainder (remainder):\", np.remainder(arr1, arr2))"
      ],
      "metadata": {
        "colab": {
          "base_uri": "https://localhost:8080/"
        },
        "id": "j-PGCXk5WrJG",
        "outputId": "63dbd771-5873-448c-d841-9ca25d568bb5"
      },
      "execution_count": 52,
      "outputs": [
        {
          "output_type": "stream",
          "name": "stdout",
          "text": [
            "Modulus (mod): [ 2 -2]\n",
            "Remainder (remainder): [ 2 -2]\n"
          ]
        }
      ]
    },
    {
      "cell_type": "markdown",
      "source": [
        "Return the quotient and mod:\n",
        "\n"
      ],
      "metadata": {
        "id": "3IzfXUtmXDop"
      }
    },
    {
      "cell_type": "code",
      "source": [
        "arr1 = np.array([10, 20, 30, 40, 50, 60])\n",
        "arr2 = np.array([3, 7, 9, 8, 2, 33])\n",
        "\n",
        "newarr = np.divmod(arr1, arr2)\n",
        "newarr"
      ],
      "metadata": {
        "colab": {
          "base_uri": "https://localhost:8080/"
        },
        "id": "73Q8fc8gXBqW",
        "outputId": "58d0e1dd-fadd-4fb9-84a9-46ac67528341"
      },
      "execution_count": 53,
      "outputs": [
        {
          "output_type": "execute_result",
          "data": {
            "text/plain": [
              "(array([ 3,  2,  3,  5, 25,  1]), array([ 1,  6,  3,  0,  0, 27]))"
            ]
          },
          "metadata": {},
          "execution_count": 53
        }
      ]
    },
    {
      "cell_type": "markdown",
      "source": [
        "Return the absolute values:\n",
        "\n"
      ],
      "metadata": {
        "id": "Ilgm11fpXdtN"
      }
    },
    {
      "cell_type": "code",
      "source": [
        "arr = np.array([-1, -2, 1, 2, 3, -4])\n",
        "newarr = np.absolute(arr)\n",
        "newarr"
      ],
      "metadata": {
        "colab": {
          "base_uri": "https://localhost:8080/"
        },
        "id": "xhYOQWg3Xepk",
        "outputId": "3bf2cf96-ebd1-482a-d8af-2edd246b4b36"
      },
      "execution_count": 54,
      "outputs": [
        {
          "output_type": "execute_result",
          "data": {
            "text/plain": [
              "array([1, 2, 1, 2, 3, 4])"
            ]
          },
          "metadata": {},
          "execution_count": 54
        }
      ]
    },
    {
      "cell_type": "code",
      "source": [
        "arr = np.array([-1, -2, 1, 2, 3, -4])\n",
        "newarr = np.abs(arr)\n",
        "newarr"
      ],
      "metadata": {
        "colab": {
          "base_uri": "https://localhost:8080/"
        },
        "id": "zTdDhtlfXqbw",
        "outputId": "04f70aeb-775e-4b88-ed25-dea63d06138b"
      },
      "execution_count": 55,
      "outputs": [
        {
          "output_type": "execute_result",
          "data": {
            "text/plain": [
              "array([1, 2, 1, 2, 3, 4])"
            ]
          },
          "metadata": {},
          "execution_count": 55
        }
      ]
    },
    {
      "cell_type": "markdown",
      "source": [
        "# **4. ufunc Rounding Decimals**\n"
      ],
      "metadata": {
        "id": "c-CN3TwSYd0t"
      }
    },
    {
      "cell_type": "markdown",
      "source": [
        "Truncate elements of following array:\n",
        "\n"
      ],
      "metadata": {
        "id": "1EKXijrMZJi2"
      }
    },
    {
      "cell_type": "code",
      "source": [
        "arr = np.trunc([-3.1666, 3.6667])\n",
        "arr"
      ],
      "metadata": {
        "colab": {
          "base_uri": "https://localhost:8080/"
        },
        "id": "iXswg7TWZIhR",
        "outputId": "6ad17bfa-b094-43e1-a1b9-8a254dfe833a"
      },
      "execution_count": 56,
      "outputs": [
        {
          "output_type": "execute_result",
          "data": {
            "text/plain": [
              "array([-3.,  3.])"
            ]
          },
          "metadata": {},
          "execution_count": 56
        }
      ]
    },
    {
      "cell_type": "markdown",
      "source": [
        "Same example, using fix():\n",
        "\n"
      ],
      "metadata": {
        "id": "BkRxq_1CZRIG"
      }
    },
    {
      "cell_type": "code",
      "source": [
        "arr = np.fix([-3.6667, 3.6667])\n",
        "arr"
      ],
      "metadata": {
        "colab": {
          "base_uri": "https://localhost:8080/"
        },
        "id": "lZN2Z_o7ZW1d",
        "outputId": "88a30393-2c2e-4433-a911-fd0676d9829d"
      },
      "execution_count": 57,
      "outputs": [
        {
          "output_type": "execute_result",
          "data": {
            "text/plain": [
              "array([-3.,  3.])"
            ]
          },
          "metadata": {},
          "execution_count": 57
        }
      ]
    },
    {
      "cell_type": "markdown",
      "source": [
        "Round off 3.1666 to 2 decimal places:\n",
        "\n"
      ],
      "metadata": {
        "id": "1_gwIHJLZiyo"
      }
    },
    {
      "cell_type": "code",
      "source": [
        "arr = np.around(3.1666, 2)\n",
        "arr"
      ],
      "metadata": {
        "colab": {
          "base_uri": "https://localhost:8080/"
        },
        "id": "8cL8entAZj05",
        "outputId": "20f1cd21-aff1-4bca-cad4-4e9a5a056780"
      },
      "execution_count": 58,
      "outputs": [
        {
          "output_type": "execute_result",
          "data": {
            "text/plain": [
              "3.17"
            ]
          },
          "metadata": {},
          "execution_count": 58
        }
      ]
    },
    {
      "cell_type": "markdown",
      "source": [
        "Floor the elements of following array:\n",
        "\n"
      ],
      "metadata": {
        "id": "UvYMIf_zZvEq"
      }
    },
    {
      "cell_type": "code",
      "source": [
        "arr = np.floor([-3.1666, 3.6667])\n",
        "arr"
      ],
      "metadata": {
        "colab": {
          "base_uri": "https://localhost:8080/"
        },
        "id": "hNmqIKeOZwTA",
        "outputId": "53785193-cfb9-4523-9640-8794c9bd3b8c"
      },
      "execution_count": 59,
      "outputs": [
        {
          "output_type": "execute_result",
          "data": {
            "text/plain": [
              "array([-4.,  3.])"
            ]
          },
          "metadata": {},
          "execution_count": 59
        }
      ]
    },
    {
      "cell_type": "markdown",
      "source": [
        "Ceil the elements of following array:\n",
        "\n"
      ],
      "metadata": {
        "id": "eX1qRx7iaN6j"
      }
    },
    {
      "cell_type": "code",
      "source": [
        "arr = np.ceil([-3.1666, 3.6667])\n",
        "arr"
      ],
      "metadata": {
        "colab": {
          "base_uri": "https://localhost:8080/"
        },
        "id": "WEZKAa4AaOs3",
        "outputId": "1fc43b4e-9e3a-4c0b-c333-68ea31247f26"
      },
      "execution_count": 60,
      "outputs": [
        {
          "output_type": "execute_result",
          "data": {
            "text/plain": [
              "array([-3.,  4.])"
            ]
          },
          "metadata": {},
          "execution_count": 60
        }
      ]
    },
    {
      "cell_type": "markdown",
      "source": [
        "# **5. ufunc NumPy Logs**\n"
      ],
      "metadata": {
        "id": "NhUaME4catWv"
      }
    },
    {
      "cell_type": "markdown",
      "source": [
        "Find log at base 2 of all elements of following array:\n",
        "\n"
      ],
      "metadata": {
        "id": "3U_366aJbBKk"
      }
    },
    {
      "cell_type": "code",
      "source": [
        "arr = np.arange(1, 10)\n",
        "print(arr)\n",
        "print(np.log2(arr))"
      ],
      "metadata": {
        "colab": {
          "base_uri": "https://localhost:8080/"
        },
        "id": "hri0nyETbC0-",
        "outputId": "dab452d0-4b5d-466c-9361-e5884fac74dc"
      },
      "execution_count": 61,
      "outputs": [
        {
          "output_type": "stream",
          "name": "stdout",
          "text": [
            "[1 2 3 4 5 6 7 8 9]\n",
            "[0.         1.         1.5849625  2.         2.32192809 2.5849625\n",
            " 2.80735492 3.         3.169925  ]\n"
          ]
        }
      ]
    },
    {
      "cell_type": "markdown",
      "source": [
        "Find log at base 10 of all elements of following array:\n",
        "\n"
      ],
      "metadata": {
        "id": "-fgsG_S-eJ3r"
      }
    },
    {
      "cell_type": "code",
      "source": [
        "arr = np.arange(1, 11)\n",
        "print(arr)\n",
        "print(np.log10(arr))"
      ],
      "metadata": {
        "colab": {
          "base_uri": "https://localhost:8080/"
        },
        "id": "QDB3a72ieKNi",
        "outputId": "b2a514aa-6318-42d9-ecb7-ebf50beff988"
      },
      "execution_count": 62,
      "outputs": [
        {
          "output_type": "stream",
          "name": "stdout",
          "text": [
            "[ 1  2  3  4  5  6  7  8  9 10]\n",
            "[0.         0.30103    0.47712125 0.60205999 0.69897    0.77815125\n",
            " 0.84509804 0.90308999 0.95424251 1.        ]\n"
          ]
        }
      ]
    },
    {
      "cell_type": "markdown",
      "source": [
        "Find log at base e of all elements of following array:\n",
        "\n"
      ],
      "metadata": {
        "id": "MJIc2UY0eaIb"
      }
    },
    {
      "cell_type": "code",
      "source": [
        "arr = np.arange(1, 10)\n",
        "np.log(arr)"
      ],
      "metadata": {
        "colab": {
          "base_uri": "https://localhost:8080/"
        },
        "id": "AdAKd31feb_1",
        "outputId": "96764ce7-1766-4d2b-8ab0-29dbae908607"
      },
      "execution_count": 63,
      "outputs": [
        {
          "output_type": "execute_result",
          "data": {
            "text/plain": [
              "array([0.        , 0.69314718, 1.09861229, 1.38629436, 1.60943791,\n",
              "       1.79175947, 1.94591015, 2.07944154, 2.19722458])"
            ]
          },
          "metadata": {},
          "execution_count": 63
        }
      ]
    },
    {
      "cell_type": "markdown",
      "source": [
        "Log at Any Base\n"
      ],
      "metadata": {
        "id": "zbsNlAtPenYX"
      }
    },
    {
      "cell_type": "code",
      "source": [
        "from math import log\n",
        "\n",
        "nplog = np.frompyfunc(log, 2, 1)\n",
        "nplog(100, 15)"
      ],
      "metadata": {
        "colab": {
          "base_uri": "https://localhost:8080/"
        },
        "id": "15lsocqIeoZo",
        "outputId": "3b9f6efc-2c5b-4bc0-f412-616840fc1034"
      },
      "execution_count": 64,
      "outputs": [
        {
          "output_type": "execute_result",
          "data": {
            "text/plain": [
              "1.7005483074552052"
            ]
          },
          "metadata": {},
          "execution_count": 64
        }
      ]
    },
    {
      "cell_type": "markdown",
      "source": [
        "Menghitung logaritma 100 dengan basis 15.\n",
        "Hasilnya adalah sekitar 1.7005483074552052, karena\n",
        "15\n",
        "1.7005\n",
        "≈\n",
        "100\n",
        "15\n",
        "1.7005\n",
        " ≈100"
      ],
      "metadata": {
        "id": "mVm7rKIagEkn"
      }
    },
    {
      "cell_type": "markdown",
      "source": [
        "# **6. NumPy Summations**\n"
      ],
      "metadata": {
        "id": "zZJZv8rJggkh"
      }
    },
    {
      "cell_type": "markdown",
      "source": [
        "Sum the values in arr1 and the values in arr2:\n",
        "\n"
      ],
      "metadata": {
        "id": "KkLkdWw5gp9i"
      }
    },
    {
      "cell_type": "code",
      "source": [
        "arr1 = np.array([1, 2, 3])\n",
        "arr2 = np.array([1, 2, 3])\n",
        "\n",
        "newarr = np.sum([arr1, arr2])\n",
        "newarr"
      ],
      "metadata": {
        "colab": {
          "base_uri": "https://localhost:8080/"
        },
        "id": "Q5y0FWJ6gsad",
        "outputId": "799e27ce-c934-4535-e7fb-e05a86ee1585"
      },
      "execution_count": 65,
      "outputs": [
        {
          "output_type": "execute_result",
          "data": {
            "text/plain": [
              "12"
            ]
          },
          "metadata": {},
          "execution_count": 65
        }
      ]
    },
    {
      "cell_type": "markdown",
      "source": [
        "Perform summation in the following array over 1st axis:\n",
        "\n"
      ],
      "metadata": {
        "id": "fId5aYKag1fw"
      }
    },
    {
      "cell_type": "code",
      "source": [
        "arr1 = np.array([1, 2, 3])\n",
        "arr2 = np.array([1, 2, 3])\n",
        "\n",
        "newarr_ax1 = np.sum([arr1, arr2], axis=1)\n",
        "print(newarr_ax1)"
      ],
      "metadata": {
        "colab": {
          "base_uri": "https://localhost:8080/"
        },
        "id": "0RFkdSHBg0-X",
        "outputId": "5c0f324f-badd-4521-caa5-053795cfa426"
      },
      "execution_count": 66,
      "outputs": [
        {
          "output_type": "stream",
          "name": "stdout",
          "text": [
            "[6 6]\n"
          ]
        }
      ]
    },
    {
      "cell_type": "markdown",
      "source": [
        "Perform cummulative summation in the following array:\n",
        "\n"
      ],
      "metadata": {
        "id": "spUnDtOmhamk"
      }
    },
    {
      "cell_type": "code",
      "source": [
        "arr = np.array([1, 2, 3])\n",
        "newarr = np.cumsum(arr)\n",
        "newarr"
      ],
      "metadata": {
        "colab": {
          "base_uri": "https://localhost:8080/"
        },
        "id": "IjoLWXMIhb1I",
        "outputId": "7e9fbc62-17b1-45b9-8016-7b0834565a4d"
      },
      "execution_count": 67,
      "outputs": [
        {
          "output_type": "execute_result",
          "data": {
            "text/plain": [
              "array([1, 3, 6])"
            ]
          },
          "metadata": {},
          "execution_count": 67
        }
      ]
    },
    {
      "cell_type": "markdown",
      "source": [
        "Cummulative sum means partially adding the elements in array.\n",
        "\n",
        "E.g. The partial sum of [1, 2, 3, 4] would be [1, 1+2, 1+2+3, 1+2+3+4] = [1, 3, 6, 10].\n",
        "\n",
        "Perfom partial sum with the cumsum() function."
      ],
      "metadata": {
        "id": "MX41DIKPhoT2"
      }
    },
    {
      "cell_type": "markdown",
      "source": [
        "# **7. NumPy Products**\n"
      ],
      "metadata": {
        "id": "Qyn_akc8jAg3"
      }
    },
    {
      "cell_type": "markdown",
      "source": [
        "Find the product of the elements of this array:\n",
        "\n"
      ],
      "metadata": {
        "id": "MuGRVyOAjI5J"
      }
    },
    {
      "cell_type": "code",
      "source": [
        "arr = np.array([1, 2, 3, 4])\n",
        "x = np.prod(arr)\n",
        "x\n",
        "\n",
        "# Returns: 24 because 1*2*3*4 = 24"
      ],
      "metadata": {
        "colab": {
          "base_uri": "https://localhost:8080/"
        },
        "id": "wVuhWw6ujJ3y",
        "outputId": "33a609c6-30d6-4578-fa1f-2702e1747494"
      },
      "execution_count": 68,
      "outputs": [
        {
          "output_type": "execute_result",
          "data": {
            "text/plain": [
              "24"
            ]
          },
          "metadata": {},
          "execution_count": 68
        }
      ]
    },
    {
      "cell_type": "markdown",
      "source": [
        "Find the product of the elements of two arrays:\n",
        "\n"
      ],
      "metadata": {
        "id": "xJxG9wRfjfGG"
      }
    },
    {
      "cell_type": "code",
      "source": [
        "arr1 = np.array([1, 2, 3, 4])\n",
        "arr2 = np.array([5, 6, 7, 8])\n",
        "\n",
        "x = np.prod([arr1, arr2])\n",
        "x\n",
        "\n",
        "# Returns: 40320 because 1*2*3*4*5*6*7*8 = 40320"
      ],
      "metadata": {
        "colab": {
          "base_uri": "https://localhost:8080/"
        },
        "id": "RhC8grjcjek4",
        "outputId": "48999a65-ed26-491c-ddbc-7e1a315ea7c8"
      },
      "execution_count": 69,
      "outputs": [
        {
          "output_type": "execute_result",
          "data": {
            "text/plain": [
              "40320"
            ]
          },
          "metadata": {},
          "execution_count": 69
        }
      ]
    },
    {
      "cell_type": "markdown",
      "source": [
        "Perform summation in the following array over 1st axis:\n",
        "\n"
      ],
      "metadata": {
        "id": "9-1oY-CPj01V"
      }
    },
    {
      "cell_type": "code",
      "source": [
        "arr1 = np.array([1, 2, 3, 4])\n",
        "arr2 = np.array([5, 6, 7, 8])\n",
        "\n",
        "newarr = np.prod([arr1, arr2], axis=1)\n",
        "newarr"
      ],
      "metadata": {
        "colab": {
          "base_uri": "https://localhost:8080/"
        },
        "id": "qYwHabjIj55y",
        "outputId": "a182dbdf-2147-4076-9a48-734cd6c9acba"
      },
      "execution_count": 70,
      "outputs": [
        {
          "output_type": "execute_result",
          "data": {
            "text/plain": [
              "array([  24, 1680])"
            ]
          },
          "metadata": {},
          "execution_count": 70
        }
      ]
    },
    {
      "cell_type": "markdown",
      "source": [
        "Take cummulative product of all elements for following array:\n",
        "\n"
      ],
      "metadata": {
        "id": "K57kX3Xakh9X"
      }
    },
    {
      "cell_type": "code",
      "source": [
        "# E.g. The partial product of [1, 2, 3, 4] is [1, 1*2, 1*2*3, 1*2*3*4] = [1, 2, 6, 24]\n",
        "\n",
        "arr = np.array([5, 6, 7, 8])\n",
        "newarr = np.cumprod(arr)\n",
        "newarr"
      ],
      "metadata": {
        "colab": {
          "base_uri": "https://localhost:8080/"
        },
        "id": "Z8g5HB4OkhRg",
        "outputId": "73bceb1f-a21a-42b7-e086-796a503bc036"
      },
      "execution_count": 71,
      "outputs": [
        {
          "output_type": "execute_result",
          "data": {
            "text/plain": [
              "array([   5,   30,  210, 1680])"
            ]
          },
          "metadata": {},
          "execution_count": 71
        }
      ]
    },
    {
      "cell_type": "markdown",
      "source": [
        "# **8. NumPy Differences**\n"
      ],
      "metadata": {
        "id": "-KnlIfiBmVZh"
      }
    },
    {
      "cell_type": "markdown",
      "source": [
        "Compute discrete difference of the following array:\n",
        "\n"
      ],
      "metadata": {
        "id": "RhY_RFGfmkGk"
      }
    },
    {
      "cell_type": "code",
      "source": [
        "# E.g. for [1, 2, 3, 4], the discrete difference would be [2-1, 3-2, 4-3] = [1, 1, 1]\n",
        "\n",
        "arr = np.array([10, 15, 25, 5])\n",
        "newarr = np.diff(arr)\n",
        "newarr\n",
        "\n",
        "# Returns: [5 10 -20] because 15-10=5, 25-15=10, and 5-25=-20"
      ],
      "metadata": {
        "colab": {
          "base_uri": "https://localhost:8080/"
        },
        "id": "YF7SxfiJmU20",
        "outputId": "88eeda0c-9fc1-4ab2-ce20-c1ae45fb71c8"
      },
      "execution_count": 72,
      "outputs": [
        {
          "output_type": "execute_result",
          "data": {
            "text/plain": [
              "array([  5,  10, -20])"
            ]
          },
          "metadata": {},
          "execution_count": 72
        }
      ]
    },
    {
      "cell_type": "markdown",
      "source": [
        "We can perform this operation repeatedly by giving parameter `n`.\n",
        "\n",
        "E.g. for [1, 2, 3, 4], the discrete difference with n = 2 would be [2-1, 3-2, 4-3] = [1, 1, 1] , then, since n=2, we will do it once more, with the new result: [1-1, 1-1] = [0, 0]"
      ],
      "metadata": {
        "id": "zMu_A8Qhm_tP"
      }
    },
    {
      "cell_type": "markdown",
      "source": [
        "Compute discrete difference of the following array twice:\n",
        "\n"
      ],
      "metadata": {
        "id": "46crKcQcm_Kp"
      }
    },
    {
      "cell_type": "code",
      "source": [
        "arr = np.array([10, 15, 25, 5])\n",
        "newarr = np.diff(arr, n=2)\n",
        "newarr"
      ],
      "metadata": {
        "colab": {
          "base_uri": "https://localhost:8080/"
        },
        "id": "26nNF0SbnMax",
        "outputId": "4f8ef53f-6dab-4b9f-87ce-ef1e91ccc66d"
      },
      "execution_count": 73,
      "outputs": [
        {
          "output_type": "execute_result",
          "data": {
            "text/plain": [
              "array([  5, -30])"
            ]
          },
          "metadata": {},
          "execution_count": 73
        }
      ]
    },
    {
      "cell_type": "markdown",
      "source": [
        "**Returns**: [5 -30] because: 15-10=5, 25-15=10, and 5-25=-20 AND 10-5=5 and -20-10=-30\n",
        "\n"
      ],
      "metadata": {
        "id": "hCbYs3LanhT-"
      }
    },
    {
      "cell_type": "markdown",
      "source": [
        "# **9. NumPy LCM (Lowest Common Multiple)**"
      ],
      "metadata": {
        "id": "8CHnwQDPoD_R"
      }
    },
    {
      "cell_type": "markdown",
      "source": [
        "Find the LCM of the following two numbers:\n",
        "\n"
      ],
      "metadata": {
        "id": "40rvASB1obwy"
      }
    },
    {
      "cell_type": "code",
      "source": [
        "num1 = 4\n",
        "num2 = 6\n",
        "\n",
        "x = np.lcm(num1, num2)\n",
        "x"
      ],
      "metadata": {
        "colab": {
          "base_uri": "https://localhost:8080/"
        },
        "id": "LkktEcOpodIa",
        "outputId": "22107474-b378-4f08-857d-147321256fa2"
      },
      "execution_count": 74,
      "outputs": [
        {
          "output_type": "execute_result",
          "data": {
            "text/plain": [
              "12"
            ]
          },
          "metadata": {},
          "execution_count": 74
        }
      ]
    },
    {
      "cell_type": "markdown",
      "source": [
        "**Returns**: 12 because that is the lowest common multiple of both numbers (4x3=12 and 6x2=12).\n",
        "\n"
      ],
      "metadata": {
        "id": "9LL14XSDolK7"
      }
    },
    {
      "cell_type": "markdown",
      "source": [
        "Find the LCM of the values of the following array:\n",
        "\n"
      ],
      "metadata": {
        "id": "9H1H5iXnpv3u"
      }
    },
    {
      "cell_type": "code",
      "source": [
        "arr = np.array([3, 6, 9])\n",
        "x = np.lcm.reduce(arr)\n",
        "x"
      ],
      "metadata": {
        "colab": {
          "base_uri": "https://localhost:8080/"
        },
        "id": "RyxoFfZFpziD",
        "outputId": "5012b394-4ad9-4c41-9329-8187838ff6bc"
      },
      "execution_count": 75,
      "outputs": [
        {
          "output_type": "execute_result",
          "data": {
            "text/plain": [
              "18"
            ]
          },
          "metadata": {},
          "execution_count": 75
        }
      ]
    },
    {
      "cell_type": "markdown",
      "source": [
        "The reduce() method will use the ufunc, in this case the lcm() function, on each element, and reduce the array by one dimension.\n",
        "\n"
      ],
      "metadata": {
        "id": "gHgLhBpsqEph"
      }
    },
    {
      "cell_type": "markdown",
      "source": [
        "Find the LCM of all values of an array where the array contains all integers from 1 to 10:\n",
        "\n"
      ],
      "metadata": {
        "id": "-NTT3OlWqpj0"
      }
    },
    {
      "cell_type": "code",
      "source": [
        "arr = np.arange(1,11)\n",
        "x = np.lcm.reduce(arr)\n",
        "print(arr)\n",
        "print(x)"
      ],
      "metadata": {
        "colab": {
          "base_uri": "https://localhost:8080/"
        },
        "id": "1kPNbx6yqn9n",
        "outputId": "822af477-67ca-44eb-b3ea-82465dc5c2bf"
      },
      "execution_count": 76,
      "outputs": [
        {
          "output_type": "stream",
          "name": "stdout",
          "text": [
            "[ 1  2  3  4  5  6  7  8  9 10]\n",
            "2520\n"
          ]
        }
      ]
    },
    {
      "cell_type": "markdown",
      "source": [
        "# **10. NumPy GCD (Greatest Common Denominator)**\n"
      ],
      "metadata": {
        "id": "H7-_TX_vDziP"
      }
    },
    {
      "cell_type": "markdown",
      "source": [
        "Find the HCF of the following two numbers:\n",
        "\n"
      ],
      "metadata": {
        "id": "Zvwh1kAsEJ_H"
      }
    },
    {
      "cell_type": "code",
      "source": [
        "num1 = 6\n",
        "num2 = 9\n",
        "x = np.gcd(num1, num2)\n",
        "x"
      ],
      "metadata": {
        "colab": {
          "base_uri": "https://localhost:8080/"
        },
        "id": "G78X9QexD7rg",
        "outputId": "a7d2c25a-0b46-4201-f278-7f7c00640d3e"
      },
      "execution_count": 77,
      "outputs": [
        {
          "output_type": "execute_result",
          "data": {
            "text/plain": [
              "3"
            ]
          },
          "metadata": {},
          "execution_count": 77
        }
      ]
    },
    {
      "cell_type": "markdown",
      "source": [
        "**Returns**: 3 because that is the highest number both numbers can be divided by (6/3=2 and 9/3=3).\n",
        "\n"
      ],
      "metadata": {
        "id": "iJKokU9xE3P3"
      }
    },
    {
      "cell_type": "markdown",
      "source": [
        "Find the GCD for all of the numbers in the following array:\n",
        "\n"
      ],
      "metadata": {
        "id": "G4mLtWisFDDj"
      }
    },
    {
      "cell_type": "code",
      "source": [
        "arr = np.array([20, 8, 32, 36, 16])\n",
        "x = np.gcd.reduce(arr)\n",
        "x"
      ],
      "metadata": {
        "colab": {
          "base_uri": "https://localhost:8080/"
        },
        "id": "xEqZm_cQFD6g",
        "outputId": "3e6215da-1182-4030-a6ad-3aa4f5d1f868"
      },
      "execution_count": 79,
      "outputs": [
        {
          "output_type": "execute_result",
          "data": {
            "text/plain": [
              "4"
            ]
          },
          "metadata": {},
          "execution_count": 79
        }
      ]
    },
    {
      "cell_type": "markdown",
      "source": [
        "**Returns**: 4 because that is the highest number all values can be divided by.\n",
        "\n"
      ],
      "metadata": {
        "id": "3ZZop1PhFVji"
      }
    },
    {
      "cell_type": "markdown",
      "source": [
        "# **11. NumPy Trigonometric Functions**\n"
      ],
      "metadata": {
        "id": "R50MBRFnFy6h"
      }
    },
    {
      "cell_type": "markdown",
      "source": [
        "Find sine value of PI/2:\n",
        "\n"
      ],
      "metadata": {
        "id": "UsGpBYhFF9gi"
      }
    },
    {
      "cell_type": "code",
      "source": [
        "x = np.pi/2\n",
        "result = np.sin(x)\n",
        "print(x)\n",
        "print(result)"
      ],
      "metadata": {
        "colab": {
          "base_uri": "https://localhost:8080/"
        },
        "id": "Fg4yJiwxF9PH",
        "outputId": "43c377f2-ac12-40ab-f289-f5a192b60b8f"
      },
      "execution_count": 84,
      "outputs": [
        {
          "output_type": "stream",
          "name": "stdout",
          "text": [
            "1.5707963267948966\n",
            "1.0\n"
          ]
        }
      ]
    },
    {
      "cell_type": "markdown",
      "source": [
        "Find sine values for all of the values in arr:\n",
        "\n"
      ],
      "metadata": {
        "id": "U5RdvJWFGZBH"
      }
    },
    {
      "cell_type": "code",
      "source": [
        "arr = np.array([np.pi/2, np.pi/3, np.pi/4, np.pi/5])\n",
        "x = np.sin(arr)\n",
        "x"
      ],
      "metadata": {
        "colab": {
          "base_uri": "https://localhost:8080/"
        },
        "id": "2St7o9poGc6g",
        "outputId": "753129c4-fddf-4548-ef7a-b07ce0c5b51a"
      },
      "execution_count": 85,
      "outputs": [
        {
          "output_type": "execute_result",
          "data": {
            "text/plain": [
              "array([1.        , 0.8660254 , 0.70710678, 0.58778525])"
            ]
          },
          "metadata": {},
          "execution_count": 85
        }
      ]
    },
    {
      "cell_type": "markdown",
      "source": [
        "Convert all of the values in following array arr to radians:\n",
        "\n"
      ],
      "metadata": {
        "id": "EEv0WToQGviQ"
      }
    },
    {
      "cell_type": "code",
      "source": [
        "arr = np.array([90, 180, 270, 360])\n",
        "x = np.deg2rad(arr)\n",
        "x"
      ],
      "metadata": {
        "colab": {
          "base_uri": "https://localhost:8080/"
        },
        "id": "y1JQWrVtHLtQ",
        "outputId": "8f16729e-c603-47e0-efce-9891bbf28b2b"
      },
      "execution_count": 86,
      "outputs": [
        {
          "output_type": "execute_result",
          "data": {
            "text/plain": [
              "array([1.57079633, 3.14159265, 4.71238898, 6.28318531])"
            ]
          },
          "metadata": {},
          "execution_count": 86
        }
      ]
    },
    {
      "cell_type": "markdown",
      "source": [
        "Convert all of the values in following array arr to degrees:\n",
        "\n"
      ],
      "metadata": {
        "id": "vuzO-lN0HYtf"
      }
    },
    {
      "cell_type": "code",
      "source": [
        "arr = np.array([np.pi/2, np.pi, 1.5*np.pi, 2*np.pi])\n",
        "x = np.rad2deg(arr)\n",
        "x"
      ],
      "metadata": {
        "colab": {
          "base_uri": "https://localhost:8080/"
        },
        "id": "Gg-p5hhfHZdK",
        "outputId": "31783cde-0287-46b1-f120-52b853bf70b1"
      },
      "execution_count": 87,
      "outputs": [
        {
          "output_type": "execute_result",
          "data": {
            "text/plain": [
              "array([ 90., 180., 270., 360.])"
            ]
          },
          "metadata": {},
          "execution_count": 87
        }
      ]
    },
    {
      "cell_type": "markdown",
      "source": [
        "Find the angle of 1.0:\n",
        "\n"
      ],
      "metadata": {
        "id": "5iZOaD_gISWf"
      }
    },
    {
      "cell_type": "code",
      "source": [
        "x = np.arcsin(1.0)\n",
        "x"
      ],
      "metadata": {
        "colab": {
          "base_uri": "https://localhost:8080/"
        },
        "id": "63PDKJg2IT2o",
        "outputId": "5be82ab3-1055-40e2-e68e-bf21b20b50ed"
      },
      "execution_count": 88,
      "outputs": [
        {
          "output_type": "execute_result",
          "data": {
            "text/plain": [
              "1.5707963267948966"
            ]
          },
          "metadata": {},
          "execution_count": 88
        }
      ]
    },
    {
      "cell_type": "markdown",
      "source": [
        "Find the angle for all of the sine values in the array\n",
        "\n"
      ],
      "metadata": {
        "id": "J1ga-Ud8IbEv"
      }
    },
    {
      "cell_type": "code",
      "source": [
        "arr = np.array([1, -1, 0.1])\n",
        "x = np.arcsin(arr)\n",
        "x"
      ],
      "metadata": {
        "colab": {
          "base_uri": "https://localhost:8080/"
        },
        "id": "K5CxrgdEIb1v",
        "outputId": "6013c3d1-f3d6-444f-f573-88926ec44f42"
      },
      "execution_count": 90,
      "outputs": [
        {
          "output_type": "execute_result",
          "data": {
            "text/plain": [
              "array([ 1.57079633, -1.57079633,  0.10016742])"
            ]
          },
          "metadata": {},
          "execution_count": 90
        }
      ]
    },
    {
      "cell_type": "markdown",
      "source": [
        "Find the hypotenues for 4 base and 3 perpendicular:\n",
        "\n"
      ],
      "metadata": {
        "id": "4SApzSADIx2H"
      }
    },
    {
      "cell_type": "code",
      "source": [
        "base, perpendicular = 3, 4\n",
        "x = np.hypot(base, perpendicular)\n",
        "int(x)"
      ],
      "metadata": {
        "colab": {
          "base_uri": "https://localhost:8080/"
        },
        "id": "3I_sH-3jIy2x",
        "outputId": "f6aa7256-4788-46d7-e0e4-6b31a7ce68bb"
      },
      "execution_count": 92,
      "outputs": [
        {
          "output_type": "execute_result",
          "data": {
            "text/plain": [
              "5"
            ]
          },
          "metadata": {},
          "execution_count": 92
        }
      ]
    },
    {
      "cell_type": "markdown",
      "source": [
        "# **12. NumPy Hyperbolic Functions**\n"
      ],
      "metadata": {
        "id": "BIuGBhuzLIkf"
      }
    },
    {
      "cell_type": "markdown",
      "source": [
        "Find sinh value of PI/2:\n",
        "\n"
      ],
      "metadata": {
        "id": "0dztmsBkL9ZZ"
      }
    },
    {
      "cell_type": "code",
      "source": [
        "x = np.sinh(np.pi/2)\n",
        "x"
      ],
      "metadata": {
        "colab": {
          "base_uri": "https://localhost:8080/"
        },
        "id": "T8rE7KU1MN_B",
        "outputId": "b998483e-8d57-49f9-cf7d-1c90afe026e3"
      },
      "execution_count": 93,
      "outputs": [
        {
          "output_type": "execute_result",
          "data": {
            "text/plain": [
              "2.3012989023072947"
            ]
          },
          "metadata": {},
          "execution_count": 93
        }
      ]
    },
    {
      "cell_type": "markdown",
      "source": [
        "Find cosh values for all of the values in arr:\n",
        "\n"
      ],
      "metadata": {
        "id": "oekABEMGMXco"
      }
    },
    {
      "cell_type": "code",
      "source": [
        "arr = np.array([np.pi/2, np.pi/3, np.pi/4, np.pi/5])\n",
        "x = np.cosh(arr)\n",
        "x"
      ],
      "metadata": {
        "colab": {
          "base_uri": "https://localhost:8080/"
        },
        "id": "4dWu5qJCMXUH",
        "outputId": "cb513ff6-6634-4d85-dd0e-c6b8f14f41a3"
      },
      "execution_count": 94,
      "outputs": [
        {
          "output_type": "execute_result",
          "data": {
            "text/plain": [
              "array([2.50917848, 1.60028686, 1.32460909, 1.20397209])"
            ]
          },
          "metadata": {},
          "execution_count": 94
        }
      ]
    },
    {
      "cell_type": "markdown",
      "source": [
        "Find the angle of 1.0:\n",
        "\n"
      ],
      "metadata": {
        "id": "pcRkj3TfMjr_"
      }
    },
    {
      "cell_type": "code",
      "source": [
        "x = np.arcsinh(1.0)\n",
        "x"
      ],
      "metadata": {
        "colab": {
          "base_uri": "https://localhost:8080/"
        },
        "id": "DO0GN1CyMkp4",
        "outputId": "5e2d56db-179b-442e-8de3-014de2dacfd5"
      },
      "execution_count": 95,
      "outputs": [
        {
          "output_type": "execute_result",
          "data": {
            "text/plain": [
              "0.881373587019543"
            ]
          },
          "metadata": {},
          "execution_count": 95
        }
      ]
    },
    {
      "cell_type": "markdown",
      "source": [
        "Find the angle for all of the tanh values in array:\n",
        "\n"
      ],
      "metadata": {
        "id": "QkUTeJYOMsRi"
      }
    },
    {
      "cell_type": "code",
      "source": [
        "arr = np.array([0.1, 0.2, 0.5])\n",
        "x = np.arctanh(arr)\n",
        "x"
      ],
      "metadata": {
        "colab": {
          "base_uri": "https://localhost:8080/"
        },
        "id": "Esg2JCcrMtlI",
        "outputId": "4bd88265-8d1f-4348-a9af-de95987eb500"
      },
      "execution_count": 96,
      "outputs": [
        {
          "output_type": "execute_result",
          "data": {
            "text/plain": [
              "array([0.10033535, 0.20273255, 0.54930614])"
            ]
          },
          "metadata": {},
          "execution_count": 96
        }
      ]
    },
    {
      "cell_type": "markdown",
      "source": [
        "# **13. NumPy Set Operations**\n"
      ],
      "metadata": {
        "id": "D3cF-My_NC5J"
      }
    },
    {
      "cell_type": "markdown",
      "source": [
        "Convert following array with repeated elements to a set:\n",
        "\n"
      ],
      "metadata": {
        "id": "c3S-xpAoNWjR"
      }
    },
    {
      "cell_type": "code",
      "source": [
        "arr = np.array([1, 1, 1, 2, 3, 4, 5, 5, 6, 7])\n",
        "x = np.unique(arr)\n",
        "x"
      ],
      "metadata": {
        "colab": {
          "base_uri": "https://localhost:8080/"
        },
        "id": "yG7WWKHYNRmU",
        "outputId": "7632f1fc-8133-4c61-9b7d-04610e452d6a"
      },
      "execution_count": 97,
      "outputs": [
        {
          "output_type": "execute_result",
          "data": {
            "text/plain": [
              "array([1, 2, 3, 4, 5, 6, 7])"
            ]
          },
          "metadata": {},
          "execution_count": 97
        }
      ]
    },
    {
      "cell_type": "markdown",
      "source": [
        "Find union of the following two set arrays:\n",
        "\n"
      ],
      "metadata": {
        "id": "Ra_UProYNh5L"
      }
    },
    {
      "cell_type": "code",
      "source": [
        "arr1 = np.array([1, 2, 3, 4])\n",
        "arr2 = np.array([3, 4, 5, 6])\n",
        "\n",
        "newarr = np.union1d(arr1, arr2)\n",
        "newarr"
      ],
      "metadata": {
        "colab": {
          "base_uri": "https://localhost:8080/"
        },
        "id": "lS9f9hZkNjY2",
        "outputId": "c985de87-5086-44b2-97fc-5c51a58bd45e"
      },
      "execution_count": 98,
      "outputs": [
        {
          "output_type": "execute_result",
          "data": {
            "text/plain": [
              "array([1, 2, 3, 4, 5, 6])"
            ]
          },
          "metadata": {},
          "execution_count": 98
        }
      ]
    },
    {
      "cell_type": "markdown",
      "source": [
        "Find intersection of the following two set arrays:\n",
        "\n"
      ],
      "metadata": {
        "id": "eAZvzNSANuSu"
      }
    },
    {
      "cell_type": "code",
      "source": [
        "arr1 = np.array([1, 2, 3, 4])\n",
        "arr2 = np.array([3, 4, 5, 6])\n",
        "\n",
        "newarr = np.intersect1d(arr1, arr2, assume_unique=True)\n",
        "newarr"
      ],
      "metadata": {
        "colab": {
          "base_uri": "https://localhost:8080/"
        },
        "id": "0DVgudYTNvJp",
        "outputId": "5aef21a6-203e-4118-be2c-a7ef5fb85d7c"
      },
      "execution_count": 100,
      "outputs": [
        {
          "output_type": "execute_result",
          "data": {
            "text/plain": [
              "array([3, 4])"
            ]
          },
          "metadata": {},
          "execution_count": 100
        }
      ]
    },
    {
      "cell_type": "markdown",
      "source": [
        "**Note**: the `intersect1d()` method takes an optional argument `assume_unique`, which if set to **True** can speed up computation. It should always be set to **True** when dealing with sets.\n",
        "\n"
      ],
      "metadata": {
        "id": "MMCvGM_0OAL9"
      }
    },
    {
      "cell_type": "markdown",
      "source": [
        "Find the difference of the set1 from set2:\n",
        "\n"
      ],
      "metadata": {
        "id": "LnVHy-m7OMkB"
      }
    },
    {
      "cell_type": "code",
      "source": [
        "set1 = np.array([1, 2, 3, 4])\n",
        "set2 = np.array([3, 4, 5, 6])\n",
        "newarr = np.setdiff1d(set1, set2, assume_unique=True)\n",
        "newarr"
      ],
      "metadata": {
        "colab": {
          "base_uri": "https://localhost:8080/"
        },
        "id": "j46HhH9-OOFI",
        "outputId": "d4e0c75c-e123-43fc-ef2f-0df78191a2ce"
      },
      "execution_count": 101,
      "outputs": [
        {
          "output_type": "execute_result",
          "data": {
            "text/plain": [
              "array([1, 2])"
            ]
          },
          "metadata": {},
          "execution_count": 101
        }
      ]
    },
    {
      "cell_type": "markdown",
      "source": [
        "**Note**: the `setdiff1d()` method takes an optional argument `assume_unique`, which if set to True can speed up computation. It should always be set to True when dealing with sets.\n",
        "\n"
      ],
      "metadata": {
        "id": "V-OjDcA0Obtw"
      }
    },
    {
      "cell_type": "markdown",
      "source": [
        "Find the symmetric difference of the set1 and set2:\n",
        "\n"
      ],
      "metadata": {
        "id": "hEXXjaviOt54"
      }
    },
    {
      "cell_type": "code",
      "source": [
        "set1 = np.array([1, 2, 3, 4])\n",
        "set2 = np.array([3, 4, 5, 6])\n",
        "newarr = np.setxor1d(set1, set2, assume_unique=True)\n",
        "newarr"
      ],
      "metadata": {
        "colab": {
          "base_uri": "https://localhost:8080/"
        },
        "id": "cQd2jknmOv4h",
        "outputId": "d7805c1c-a2e7-4013-aab5-591325c3584b"
      },
      "execution_count": 102,
      "outputs": [
        {
          "output_type": "execute_result",
          "data": {
            "text/plain": [
              "array([1, 2, 5, 6])"
            ]
          },
          "metadata": {},
          "execution_count": 102
        }
      ]
    },
    {
      "cell_type": "markdown",
      "source": [
        "**Note**: the `setxor1d()` method takes an optional argument `assume_unique`, which if set to True can speed up computation. It should always be set to True when dealing with sets.\n",
        "\n"
      ],
      "metadata": {
        "id": "xlvP74bBO-r9"
      }
    }
  ]
}