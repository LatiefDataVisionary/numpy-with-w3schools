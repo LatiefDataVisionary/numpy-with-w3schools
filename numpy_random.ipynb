{
  "nbformat": 4,
  "nbformat_minor": 0,
  "metadata": {
    "colab": {
      "provenance": [],
      "authorship_tag": "ABX9TyNp58GjD8mVRmufJ9+ovf36",
      "include_colab_link": true
    },
    "kernelspec": {
      "name": "python3",
      "display_name": "Python 3"
    },
    "language_info": {
      "name": "python"
    }
  },
  "cells": [
    {
      "cell_type": "markdown",
      "metadata": {
        "id": "view-in-github",
        "colab_type": "text"
      },
      "source": [
        "<a href=\"https://colab.research.google.com/github/LatiefDataVisionary/numpy-with-w3schools/blob/main/numpy_random.ipynb\" target=\"_parent\"><img src=\"https://colab.research.google.com/assets/colab-badge.svg\" alt=\"Open In Colab\"/></a>"
      ]
    },
    {
      "cell_type": "markdown",
      "source": [
        "#**1. Random Numbers in NumPy**\n"
      ],
      "metadata": {
        "id": "rn8_leT5dLDH"
      }
    },
    {
      "cell_type": "markdown",
      "source": [
        "### **A. Generate Random Number**\n",
        "\n",
        "Generate a random integer from 0 to 100:\n",
        "\n"
      ],
      "metadata": {
        "id": "uoHqBCeqdVrz"
      }
    },
    {
      "cell_type": "code",
      "execution_count": 4,
      "metadata": {
        "colab": {
          "base_uri": "https://localhost:8080/"
        },
        "id": "G0ii60b9Y9Pk",
        "outputId": "ed3b3ad7-88fd-4e5b-82f3-9c8ffa5c7ca2"
      },
      "outputs": [
        {
          "output_type": "execute_result",
          "data": {
            "text/plain": [
              "35"
            ]
          },
          "metadata": {},
          "execution_count": 4
        }
      ],
      "source": [
        "from numpy import random\n",
        "x = random.randint(100)\n",
        "x"
      ]
    },
    {
      "cell_type": "markdown",
      "source": [
        "### **B. Generate Random Float**\n",
        "\n",
        "The random module's rand() method returns a random float between 0 and 1.\n",
        "\n"
      ],
      "metadata": {
        "id": "XVMrEp6edmLA"
      }
    },
    {
      "cell_type": "code",
      "source": [
        "x = random.rand()\n",
        "x"
      ],
      "metadata": {
        "colab": {
          "base_uri": "https://localhost:8080/"
        },
        "id": "qpNuFbXYdvU2",
        "outputId": "d27686a1-144a-4758-be1d-3a4515bb27c3"
      },
      "execution_count": 3,
      "outputs": [
        {
          "output_type": "execute_result",
          "data": {
            "text/plain": [
              "0.6497232421102888"
            ]
          },
          "metadata": {},
          "execution_count": 3
        }
      ]
    },
    {
      "cell_type": "markdown",
      "source": [
        "### **C. Generate Random Array**\n",
        "\n",
        "The randint() method takes a size parameter where you can specify the shape of an array.\n",
        "\n",
        "\n"
      ],
      "metadata": {
        "id": "p-aIiLi4eQvh"
      }
    },
    {
      "cell_type": "code",
      "source": [
        "x = random.randint(100, size=(5))\n",
        "x"
      ],
      "metadata": {
        "colab": {
          "base_uri": "https://localhost:8080/"
        },
        "id": "cz9zijLBeUAV",
        "outputId": "72c86fd7-143c-47e7-8051-7f43914ec690"
      },
      "execution_count": 5,
      "outputs": [
        {
          "output_type": "execute_result",
          "data": {
            "text/plain": [
              "array([79, 26, 90, 22, 55])"
            ]
          },
          "metadata": {},
          "execution_count": 5
        }
      ]
    },
    {
      "cell_type": "markdown",
      "source": [
        "Generate a 2-D array with 3 rows, each row containing 5 random integers from 0 to 100:\n",
        "\n"
      ],
      "metadata": {
        "id": "lyol2MHHfaos"
      }
    },
    {
      "cell_type": "code",
      "source": [
        "x = random.randint(100, size=(3,5))\n",
        "x"
      ],
      "metadata": {
        "colab": {
          "base_uri": "https://localhost:8080/"
        },
        "id": "F-R2MXLAfdWc",
        "outputId": "a11c06d2-9d8d-4012-dd88-c6a62f9f9686"
      },
      "execution_count": 6,
      "outputs": [
        {
          "output_type": "execute_result",
          "data": {
            "text/plain": [
              "array([[12, 43, 98, 91, 52],\n",
              "       [76, 53, 81, 77, 24],\n",
              "       [89, 83, 34, 11, 63]])"
            ]
          },
          "metadata": {},
          "execution_count": 6
        }
      ]
    },
    {
      "cell_type": "code",
      "source": [
        "x = random.randint(100, size=(2,5,3))\n",
        "x"
      ],
      "metadata": {
        "colab": {
          "base_uri": "https://localhost:8080/"
        },
        "id": "eEUHS5PAfk6F",
        "outputId": "571736ef-c977-49dc-b4c0-3182eb15d05e"
      },
      "execution_count": 11,
      "outputs": [
        {
          "output_type": "execute_result",
          "data": {
            "text/plain": [
              "array([[[82, 69, 24],\n",
              "        [19, 58, 39],\n",
              "        [36, 40, 46],\n",
              "        [18, 33, 46],\n",
              "        [26, 89, 67]],\n",
              "\n",
              "       [[16,  4, 75],\n",
              "        [37, 13,  2],\n",
              "        [24, 83, 85],\n",
              "        [69, 90, 71],\n",
              "        [75, 22, 69]]])"
            ]
          },
          "metadata": {},
          "execution_count": 11
        }
      ]
    },
    {
      "cell_type": "markdown",
      "source": [
        "### **D. Floats**\n"
      ],
      "metadata": {
        "id": "f5HWP_f7gMRt"
      }
    },
    {
      "cell_type": "markdown",
      "source": [
        "Generate a 1-D array containing 5 random floats:\n",
        "\n"
      ],
      "metadata": {
        "id": "StpkIzHogSxP"
      }
    },
    {
      "cell_type": "code",
      "source": [
        "x = random.rand(5)\n",
        "x"
      ],
      "metadata": {
        "colab": {
          "base_uri": "https://localhost:8080/"
        },
        "id": "zv51tJJqgRmu",
        "outputId": "629bd1ef-38d9-4595-f026-2e024d37dd9d"
      },
      "execution_count": 13,
      "outputs": [
        {
          "output_type": "execute_result",
          "data": {
            "text/plain": [
              "array([0.14293518, 0.84074953, 0.73504177, 0.4209326 , 0.73955375])"
            ]
          },
          "metadata": {},
          "execution_count": 13
        }
      ]
    },
    {
      "cell_type": "markdown",
      "source": [
        "Generate a 2-D array with 3 rows, each row containing 5 random numbers:\n",
        "\n"
      ],
      "metadata": {
        "id": "LnYglyIXgalg"
      }
    },
    {
      "cell_type": "code",
      "source": [
        "x = random.rand(3,5)\n",
        "x"
      ],
      "metadata": {
        "colab": {
          "base_uri": "https://localhost:8080/"
        },
        "id": "Y-ALXwPtgct9",
        "outputId": "ef6813a1-7a26-4090-9810-e53185265a42"
      },
      "execution_count": 16,
      "outputs": [
        {
          "output_type": "execute_result",
          "data": {
            "text/plain": [
              "array([[0.15728175, 0.51260043, 0.51548604, 0.84234491, 0.12782235],\n",
              "       [0.10765733, 0.42762858, 0.66092961, 0.23587109, 0.07914281],\n",
              "       [0.02192218, 0.33907755, 0.04299259, 0.17146489, 0.98593214]])"
            ]
          },
          "metadata": {},
          "execution_count": 16
        }
      ]
    },
    {
      "cell_type": "code",
      "source": [
        "x[2]"
      ],
      "metadata": {
        "colab": {
          "base_uri": "https://localhost:8080/"
        },
        "id": "5IluKFTegm3m",
        "outputId": "0c53b93e-b06b-4b56-9c08-a490c6a8a646"
      },
      "execution_count": 17,
      "outputs": [
        {
          "output_type": "execute_result",
          "data": {
            "text/plain": [
              "array([0.02192218, 0.33907755, 0.04299259, 0.17146489, 0.98593214])"
            ]
          },
          "metadata": {},
          "execution_count": 17
        }
      ]
    },
    {
      "cell_type": "markdown",
      "source": [
        "**E. Generate Random Number From Array**\n",
        "\n",
        "Return one of the values in an array:\n",
        "\n",
        "\n"
      ],
      "metadata": {
        "id": "WG2vO9Z8gxZf"
      }
    },
    {
      "cell_type": "markdown",
      "source": [
        "**E. Generate Random Number From Array**\n",
        "\n",
        "Return one of the values in an array:\n",
        "\n",
        "\n"
      ],
      "metadata": {
        "id": "ZsThlmidhymj"
      }
    },
    {
      "cell_type": "markdown",
      "source": [
        "**E. Generate Random Number From Array**\n",
        "\n",
        "Return one of the values in an array:\n",
        "\n",
        "\n"
      ],
      "metadata": {
        "id": "sUfBmhachzAy"
      }
    },
    {
      "cell_type": "code",
      "source": [],
      "metadata": {
        "id": "3aZ0Ath_grk-"
      },
      "execution_count": null,
      "outputs": []
    }
  ]
}